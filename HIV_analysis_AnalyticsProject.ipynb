{
 "cells": [
  {
   "cell_type": "markdown",
   "id": "9a16eb57",
   "metadata": {},
   "source": [
    "## Introduction\n",
    "This project is a public health project which the task is to use the data to \n",
    "generate insights on the factors that affect the spread of HIV and AIDS through sexual intercourse. The data was as a csv file downloaded from kaggle. \n",
    "the project is entirely a personal work to help build my data analytics proficiency with python libraries such as pandas, numpy, \n",
    "seaborn and matplotlib.pyplot.\n",
    "the csv file contains 9 columns which have the following header names: Age, Marital Status, STD, Educational Background, \n",
    "HIV test in past year, AIDS Education, places of seeking sexual Partners, Sexual Orientation and Result (HIV status)"
   ]
  },
  {
   "cell_type": "markdown",
   "id": "081b239f",
   "metadata": {},
   "source": [
    "# Objectives\n",
    "\n",
    "## 1. Age Group\n",
    "\n",
    "(a) What is the most common age group for individuals who tested positive for HIV in the past year?\n",
    "\n",
    "(b) How does age correlate with the likelihood of having received AIDS education?\n",
    "\n",
    "\n",
    "## 2. Marital Status\n",
    "\n",
    "(a) Which marital status group shows the highest prevalence of STDs?\n",
    "\n",
    "(b) What is the relationship between marital status and the frequency of HIV testing in the past year?\n",
    "\n",
    "## 3. STD (Sexually Transmitted Diseases)\n",
    "\n",
    "(a) Which STD is most commonly reported among individuals with different educational backgrounds?\n",
    "\n",
    "(b) Is there a significant difference in the prevalence of STDs between different sexual orientations?\n",
    "\n",
    "\n",
    "## 4. Educational Background\n",
    "\n",
    "(a) How does educational background affect the awareness and knowledge of AIDS?\n",
    "\n",
    "(b)What educational background is most associated with drug-taking behaviors?\n",
    "\n",
    "## 5. HIV Test in Past Year\n",
    "\n",
    "(a) What percentage of individuals tested for HIV in the past year were found to be HIV positive?\n",
    "\n",
    "(b) How does the frequency of HIV testing vary with places of seeking sex partners?\n",
    "\n",
    "## 6. AIDS Education\n",
    "\n",
    " What impact does AIDS education have on the likelihood of individuals seeking HIV testing?\n",
    "\n",
    "\n",
    "\n",
    "# 7. Places of Seeking Sex Partners\n",
    "\n",
    " What are the most common places of seeking sex partners among individuals who tested positive for STDs?\n",
    "\n",
    "\n",
    "# 8. Sexual Orientation\n",
    "\n",
    " What is the distribution of sexual orientations among individuals who received AIDS education?\n",
    "\n",
    "\n",
    "\n",
    "# 9. Result (HIV Status)\n",
    "\n",
    "(a) What is the correlation between educational background and HIV status?\n",
    "\n",
    "(b) How does marital status affect the outcome of HIV test results?\n"
   ]
  },
  {
   "cell_type": "code",
   "execution_count": 1,
   "id": "402c6544",
   "metadata": {},
   "outputs": [],
   "source": [
    "#import all the required libraries for the project\n",
    "import numpy as np, pandas as pd, matplotlib.pyplot as plt, seaborn as sns"
   ]
  },
  {
   "cell_type": "code",
   "execution_count": 2,
   "id": "a12182f2",
   "metadata": {},
   "outputs": [],
   "source": [
    "df = pd.read_csv(\"C:\\\\Users\\ASUS\\\\Documents\\\\data_bank\\\\HIV_dataset.csv\")"
   ]
  },
  {
   "cell_type": "code",
   "execution_count": 3,
   "id": "df051230",
   "metadata": {},
   "outputs": [
    {
     "data": {
      "text/html": [
       "<div>\n",
       "<style scoped>\n",
       "    .dataframe tbody tr th:only-of-type {\n",
       "        vertical-align: middle;\n",
       "    }\n",
       "\n",
       "    .dataframe tbody tr th {\n",
       "        vertical-align: top;\n",
       "    }\n",
       "\n",
       "    .dataframe thead th {\n",
       "        text-align: right;\n",
       "    }\n",
       "</style>\n",
       "<table border=\"1\" class=\"dataframe\">\n",
       "  <thead>\n",
       "    <tr style=\"text-align: right;\">\n",
       "      <th></th>\n",
       "      <th>Age</th>\n",
       "      <th>Marital Staus</th>\n",
       "      <th>STD</th>\n",
       "      <th>Educational Background</th>\n",
       "      <th>HIV TEST IN PAST YEAR</th>\n",
       "      <th>AIDS education</th>\n",
       "      <th>Places of seeking sex partners</th>\n",
       "      <th>SEXUAL ORIENTATION</th>\n",
       "      <th>Drug- taking</th>\n",
       "      <th>Result</th>\n",
       "    </tr>\n",
       "  </thead>\n",
       "  <tbody>\n",
       "    <tr>\n",
       "      <th>0</th>\n",
       "      <td>22</td>\n",
       "      <td>UNMARRIED</td>\n",
       "      <td>NO</td>\n",
       "      <td>College Degree</td>\n",
       "      <td>YES</td>\n",
       "      <td>NO</td>\n",
       "      <td>Bar</td>\n",
       "      <td>Heterosexual</td>\n",
       "      <td>YES</td>\n",
       "      <td>POSITIVE</td>\n",
       "    </tr>\n",
       "    <tr>\n",
       "      <th>1</th>\n",
       "      <td>20</td>\n",
       "      <td>UNMARRIED</td>\n",
       "      <td>NO</td>\n",
       "      <td>College Degree</td>\n",
       "      <td>NO</td>\n",
       "      <td>YES</td>\n",
       "      <td>None</td>\n",
       "      <td>Heterosexual</td>\n",
       "      <td>NO</td>\n",
       "      <td>NEGATIVE</td>\n",
       "    </tr>\n",
       "    <tr>\n",
       "      <th>2</th>\n",
       "      <td>23</td>\n",
       "      <td>Married</td>\n",
       "      <td>YES</td>\n",
       "      <td>College Degree</td>\n",
       "      <td>NO</td>\n",
       "      <td>YES</td>\n",
       "      <td>None</td>\n",
       "      <td>Bisexual</td>\n",
       "      <td>NO</td>\n",
       "      <td>NEGATIVE</td>\n",
       "    </tr>\n",
       "    <tr>\n",
       "      <th>3</th>\n",
       "      <td>24</td>\n",
       "      <td>Married</td>\n",
       "      <td>NO</td>\n",
       "      <td>College Degree</td>\n",
       "      <td>YES</td>\n",
       "      <td>YES</td>\n",
       "      <td>Park</td>\n",
       "      <td>Heterosexual</td>\n",
       "      <td>YES</td>\n",
       "      <td>POSITIVE</td>\n",
       "    </tr>\n",
       "    <tr>\n",
       "      <th>4</th>\n",
       "      <td>18</td>\n",
       "      <td>UNMARRIED</td>\n",
       "      <td>YES</td>\n",
       "      <td>Senior High School</td>\n",
       "      <td>YES</td>\n",
       "      <td>NO</td>\n",
       "      <td>Internet</td>\n",
       "      <td>Heterosexual</td>\n",
       "      <td>YES</td>\n",
       "      <td>POSITIVE</td>\n",
       "    </tr>\n",
       "    <tr>\n",
       "      <th>...</th>\n",
       "      <td>...</td>\n",
       "      <td>...</td>\n",
       "      <td>...</td>\n",
       "      <td>...</td>\n",
       "      <td>...</td>\n",
       "      <td>...</td>\n",
       "      <td>...</td>\n",
       "      <td>...</td>\n",
       "      <td>...</td>\n",
       "      <td>...</td>\n",
       "    </tr>\n",
       "    <tr>\n",
       "      <th>693</th>\n",
       "      <td>19</td>\n",
       "      <td>UNMARRIED</td>\n",
       "      <td>YES</td>\n",
       "      <td>Illiteracy</td>\n",
       "      <td>NO</td>\n",
       "      <td>NO</td>\n",
       "      <td>Internet</td>\n",
       "      <td>Heterosexual</td>\n",
       "      <td>NO</td>\n",
       "      <td>POSITIVE</td>\n",
       "    </tr>\n",
       "    <tr>\n",
       "      <th>694</th>\n",
       "      <td>47</td>\n",
       "      <td>MARRIED</td>\n",
       "      <td>NO</td>\n",
       "      <td>College Degree</td>\n",
       "      <td>NO</td>\n",
       "      <td>YES</td>\n",
       "      <td>Bar</td>\n",
       "      <td>Bisexual</td>\n",
       "      <td>NO</td>\n",
       "      <td>NEGATIVE</td>\n",
       "    </tr>\n",
       "    <tr>\n",
       "      <th>695</th>\n",
       "      <td>34</td>\n",
       "      <td>UNMARRIED</td>\n",
       "      <td>YES</td>\n",
       "      <td>Senior High School</td>\n",
       "      <td>YES</td>\n",
       "      <td>YES</td>\n",
       "      <td>Park</td>\n",
       "      <td>Homosexual</td>\n",
       "      <td>YES</td>\n",
       "      <td>NEGATIVE</td>\n",
       "    </tr>\n",
       "    <tr>\n",
       "      <th>696</th>\n",
       "      <td>25</td>\n",
       "      <td>MARRIED</td>\n",
       "      <td>NO</td>\n",
       "      <td>Junior High School</td>\n",
       "      <td>NO</td>\n",
       "      <td>NO</td>\n",
       "      <td>Public Bath</td>\n",
       "      <td>Heterosexual</td>\n",
       "      <td>YES</td>\n",
       "      <td>POSITIVE</td>\n",
       "    </tr>\n",
       "    <tr>\n",
       "      <th>697</th>\n",
       "      <td>46</td>\n",
       "      <td>Cohabiting</td>\n",
       "      <td>YES</td>\n",
       "      <td>Senior High School</td>\n",
       "      <td>YES</td>\n",
       "      <td>NO</td>\n",
       "      <td>Internet</td>\n",
       "      <td>Homosexual</td>\n",
       "      <td>NO</td>\n",
       "      <td>POSITIVE</td>\n",
       "    </tr>\n",
       "  </tbody>\n",
       "</table>\n",
       "<p>698 rows × 10 columns</p>\n",
       "</div>"
      ],
      "text/plain": [
       "     Age Marital Staus  STD Educational Background HIV TEST IN PAST YEAR  \\\n",
       "0     22     UNMARRIED   NO         College Degree                   YES   \n",
       "1     20     UNMARRIED   NO         College Degree                    NO   \n",
       "2     23       Married  YES         College Degree                    NO   \n",
       "3     24       Married   NO         College Degree                   YES   \n",
       "4     18     UNMARRIED  YES     Senior High School                   YES   \n",
       "..   ...           ...  ...                    ...                   ...   \n",
       "693   19     UNMARRIED  YES             Illiteracy                    NO   \n",
       "694   47       MARRIED   NO         College Degree                    NO   \n",
       "695   34     UNMARRIED  YES     Senior High School                   YES   \n",
       "696   25       MARRIED   NO     Junior High School                    NO   \n",
       "697   46    Cohabiting  YES     Senior High School                   YES   \n",
       "\n",
       "    AIDS education Places of seeking sex partners SEXUAL ORIENTATION  \\\n",
       "0               NO                            Bar       Heterosexual   \n",
       "1              YES                           None       Heterosexual   \n",
       "2              YES                           None           Bisexual   \n",
       "3              YES                           Park       Heterosexual   \n",
       "4               NO                       Internet       Heterosexual   \n",
       "..             ...                            ...                ...   \n",
       "693             NO                       Internet       Heterosexual   \n",
       "694            YES                            Bar           Bisexual   \n",
       "695            YES                           Park         Homosexual   \n",
       "696             NO                    Public Bath       Heterosexual   \n",
       "697             NO                       Internet         Homosexual   \n",
       "\n",
       "    Drug- taking    Result  \n",
       "0            YES  POSITIVE  \n",
       "1             NO  NEGATIVE  \n",
       "2             NO  NEGATIVE  \n",
       "3            YES  POSITIVE  \n",
       "4            YES  POSITIVE  \n",
       "..           ...       ...  \n",
       "693           NO  POSITIVE  \n",
       "694           NO  NEGATIVE  \n",
       "695          YES  NEGATIVE  \n",
       "696          YES  POSITIVE  \n",
       "697           NO  POSITIVE  \n",
       "\n",
       "[698 rows x 10 columns]"
      ]
     },
     "execution_count": 3,
     "metadata": {},
     "output_type": "execute_result"
    }
   ],
   "source": [
    "df"
   ]
  },
  {
   "cell_type": "markdown",
   "id": "25f7c91c",
   "metadata": {},
   "source": [
    "## data quality assessment and wrangling:\n",
    "\n",
    "we take care of 1. null values (if any), 2. check and eliminate wrong values, 3. check for and eliminate duplicate values and 4. change wrong datatype format"
   ]
  },
  {
   "cell_type": "code",
   "execution_count": 4,
   "id": "35e00769",
   "metadata": {},
   "outputs": [
    {
     "name": "stdout",
     "output_type": "stream",
     "text": [
      "<class 'pandas.core.frame.DataFrame'>\n",
      "RangeIndex: 698 entries, 0 to 697\n",
      "Data columns (total 10 columns):\n",
      " #   Column                          Non-Null Count  Dtype \n",
      "---  ------                          --------------  ----- \n",
      " 0   Age                             698 non-null    int64 \n",
      " 1   Marital Staus                   698 non-null    object\n",
      " 2   STD                             698 non-null    object\n",
      " 3   Educational Background          698 non-null    object\n",
      " 4   HIV TEST IN PAST YEAR           698 non-null    object\n",
      " 5   AIDS education                  698 non-null    object\n",
      " 6   Places of seeking sex partners  698 non-null    object\n",
      " 7   SEXUAL ORIENTATION              698 non-null    object\n",
      " 8   Drug- taking                    698 non-null    object\n",
      " 9   Result                          698 non-null    object\n",
      "dtypes: int64(1), object(9)\n",
      "memory usage: 54.7+ KB\n"
     ]
    }
   ],
   "source": [
    "df.info()"
   ]
  },
  {
   "cell_type": "code",
   "execution_count": 5,
   "id": "d12cff14",
   "metadata": {},
   "outputs": [
    {
     "data": {
      "text/html": [
       "<div>\n",
       "<style scoped>\n",
       "    .dataframe tbody tr th:only-of-type {\n",
       "        vertical-align: middle;\n",
       "    }\n",
       "\n",
       "    .dataframe tbody tr th {\n",
       "        vertical-align: top;\n",
       "    }\n",
       "\n",
       "    .dataframe thead th {\n",
       "        text-align: right;\n",
       "    }\n",
       "</style>\n",
       "<table border=\"1\" class=\"dataframe\">\n",
       "  <thead>\n",
       "    <tr style=\"text-align: right;\">\n",
       "      <th></th>\n",
       "      <th>Age</th>\n",
       "    </tr>\n",
       "  </thead>\n",
       "  <tbody>\n",
       "    <tr>\n",
       "      <th>count</th>\n",
       "      <td>698.000000</td>\n",
       "    </tr>\n",
       "    <tr>\n",
       "      <th>mean</th>\n",
       "      <td>40.022923</td>\n",
       "    </tr>\n",
       "    <tr>\n",
       "      <th>std</th>\n",
       "      <td>18.154906</td>\n",
       "    </tr>\n",
       "    <tr>\n",
       "      <th>min</th>\n",
       "      <td>12.000000</td>\n",
       "    </tr>\n",
       "    <tr>\n",
       "      <th>25%</th>\n",
       "      <td>25.000000</td>\n",
       "    </tr>\n",
       "    <tr>\n",
       "      <th>50%</th>\n",
       "      <td>38.000000</td>\n",
       "    </tr>\n",
       "    <tr>\n",
       "      <th>75%</th>\n",
       "      <td>54.000000</td>\n",
       "    </tr>\n",
       "    <tr>\n",
       "      <th>max</th>\n",
       "      <td>80.000000</td>\n",
       "    </tr>\n",
       "  </tbody>\n",
       "</table>\n",
       "</div>"
      ],
      "text/plain": [
       "              Age\n",
       "count  698.000000\n",
       "mean    40.022923\n",
       "std     18.154906\n",
       "min     12.000000\n",
       "25%     25.000000\n",
       "50%     38.000000\n",
       "75%     54.000000\n",
       "max     80.000000"
      ]
     },
     "execution_count": 5,
     "metadata": {},
     "output_type": "execute_result"
    }
   ],
   "source": [
    "df.describe()"
   ]
  },
  {
   "cell_type": "markdown",
   "id": "a775a23d",
   "metadata": {},
   "source": [
    "## Checking for null values"
   ]
  },
  {
   "cell_type": "code",
   "execution_count": 6,
   "id": "a1e71cb4",
   "metadata": {},
   "outputs": [
    {
     "data": {
      "text/plain": [
       "Age                               0\n",
       "Marital Staus                     0\n",
       "STD                               0\n",
       "Educational Background            0\n",
       "HIV TEST IN PAST YEAR             0\n",
       "AIDS education                    0\n",
       "Places of seeking sex partners    0\n",
       "SEXUAL ORIENTATION                0\n",
       "Drug- taking                      0\n",
       "Result                            0\n",
       "dtype: int64"
      ]
     },
     "execution_count": 6,
     "metadata": {},
     "output_type": "execute_result"
    }
   ],
   "source": [
    "df.isna().sum()"
   ]
  },
  {
   "cell_type": "markdown",
   "id": "1dcdfeba",
   "metadata": {},
   "source": [
    "the data does not contain empty space (null values). However, we will still check for inconsistencies such as wrong entries and duplicates of data"
   ]
  },
  {
   "cell_type": "markdown",
   "id": "61f53140",
   "metadata": {},
   "source": [
    "## checking for wrong values/entries for each of the columns"
   ]
  },
  {
   "cell_type": "code",
   "execution_count": 7,
   "id": "32739895",
   "metadata": {},
   "outputs": [
    {
     "data": {
      "text/plain": [
       "array([22, 20, 23, 24, 18, 15, 70, 44, 13, 19, 25, 75, 50, 76, 34, 45, 56,\n",
       "       27, 29, 40, 78, 16, 26, 37, 12, 67, 21, 30, 71, 80, 35, 68, 17, 38,\n",
       "       46, 42, 41, 28, 64, 69, 73, 14, 49, 43, 47, 39, 36, 31, 32, 79, 57,\n",
       "       51, 48, 33, 59, 62, 54, 52, 61, 58, 53, 60, 65, 66, 55],\n",
       "      dtype=int64)"
      ]
     },
     "execution_count": 7,
     "metadata": {},
     "output_type": "execute_result"
    }
   ],
   "source": [
    "df[\"Age\"].unique()"
   ]
  },
  {
   "cell_type": "code",
   "execution_count": 8,
   "id": "feeed23c",
   "metadata": {},
   "outputs": [],
   "source": [
    "#rename the column \"Marital Staus\" to \"Marital Status\"\n",
    "df= df.rename(columns={\"Marital Staus\":\"Marital Status\"})"
   ]
  },
  {
   "cell_type": "code",
   "execution_count": 9,
   "id": "d1ea130e",
   "metadata": {},
   "outputs": [
    {
     "data": {
      "text/html": [
       "<div>\n",
       "<style scoped>\n",
       "    .dataframe tbody tr th:only-of-type {\n",
       "        vertical-align: middle;\n",
       "    }\n",
       "\n",
       "    .dataframe tbody tr th {\n",
       "        vertical-align: top;\n",
       "    }\n",
       "\n",
       "    .dataframe thead th {\n",
       "        text-align: right;\n",
       "    }\n",
       "</style>\n",
       "<table border=\"1\" class=\"dataframe\">\n",
       "  <thead>\n",
       "    <tr style=\"text-align: right;\">\n",
       "      <th></th>\n",
       "      <th>Age</th>\n",
       "      <th>Marital Status</th>\n",
       "      <th>STD</th>\n",
       "      <th>Educational Background</th>\n",
       "      <th>HIV TEST IN PAST YEAR</th>\n",
       "      <th>AIDS education</th>\n",
       "      <th>Places of seeking sex partners</th>\n",
       "      <th>SEXUAL ORIENTATION</th>\n",
       "      <th>Drug- taking</th>\n",
       "      <th>Result</th>\n",
       "    </tr>\n",
       "  </thead>\n",
       "  <tbody>\n",
       "    <tr>\n",
       "      <th>0</th>\n",
       "      <td>22</td>\n",
       "      <td>UNMARRIED</td>\n",
       "      <td>NO</td>\n",
       "      <td>College Degree</td>\n",
       "      <td>YES</td>\n",
       "      <td>NO</td>\n",
       "      <td>Bar</td>\n",
       "      <td>Heterosexual</td>\n",
       "      <td>YES</td>\n",
       "      <td>POSITIVE</td>\n",
       "    </tr>\n",
       "    <tr>\n",
       "      <th>1</th>\n",
       "      <td>20</td>\n",
       "      <td>UNMARRIED</td>\n",
       "      <td>NO</td>\n",
       "      <td>College Degree</td>\n",
       "      <td>NO</td>\n",
       "      <td>YES</td>\n",
       "      <td>None</td>\n",
       "      <td>Heterosexual</td>\n",
       "      <td>NO</td>\n",
       "      <td>NEGATIVE</td>\n",
       "    </tr>\n",
       "    <tr>\n",
       "      <th>2</th>\n",
       "      <td>23</td>\n",
       "      <td>Married</td>\n",
       "      <td>YES</td>\n",
       "      <td>College Degree</td>\n",
       "      <td>NO</td>\n",
       "      <td>YES</td>\n",
       "      <td>None</td>\n",
       "      <td>Bisexual</td>\n",
       "      <td>NO</td>\n",
       "      <td>NEGATIVE</td>\n",
       "    </tr>\n",
       "    <tr>\n",
       "      <th>3</th>\n",
       "      <td>24</td>\n",
       "      <td>Married</td>\n",
       "      <td>NO</td>\n",
       "      <td>College Degree</td>\n",
       "      <td>YES</td>\n",
       "      <td>YES</td>\n",
       "      <td>Park</td>\n",
       "      <td>Heterosexual</td>\n",
       "      <td>YES</td>\n",
       "      <td>POSITIVE</td>\n",
       "    </tr>\n",
       "    <tr>\n",
       "      <th>4</th>\n",
       "      <td>18</td>\n",
       "      <td>UNMARRIED</td>\n",
       "      <td>YES</td>\n",
       "      <td>Senior High School</td>\n",
       "      <td>YES</td>\n",
       "      <td>NO</td>\n",
       "      <td>Internet</td>\n",
       "      <td>Heterosexual</td>\n",
       "      <td>YES</td>\n",
       "      <td>POSITIVE</td>\n",
       "    </tr>\n",
       "  </tbody>\n",
       "</table>\n",
       "</div>"
      ],
      "text/plain": [
       "   Age Marital Status  STD Educational Background HIV TEST IN PAST YEAR  \\\n",
       "0   22      UNMARRIED   NO         College Degree                   YES   \n",
       "1   20      UNMARRIED   NO         College Degree                    NO   \n",
       "2   23        Married  YES         College Degree                    NO   \n",
       "3   24        Married   NO         College Degree                   YES   \n",
       "4   18      UNMARRIED  YES     Senior High School                   YES   \n",
       "\n",
       "  AIDS education Places of seeking sex partners SEXUAL ORIENTATION  \\\n",
       "0             NO                            Bar       Heterosexual   \n",
       "1            YES                           None       Heterosexual   \n",
       "2            YES                           None           Bisexual   \n",
       "3            YES                           Park       Heterosexual   \n",
       "4             NO                       Internet       Heterosexual   \n",
       "\n",
       "  Drug- taking    Result  \n",
       "0          YES  POSITIVE  \n",
       "1           NO  NEGATIVE  \n",
       "2           NO  NEGATIVE  \n",
       "3          YES  POSITIVE  \n",
       "4          YES  POSITIVE  "
      ]
     },
     "execution_count": 9,
     "metadata": {},
     "output_type": "execute_result"
    }
   ],
   "source": [
    "df.head()"
   ]
  },
  {
   "cell_type": "code",
   "execution_count": 10,
   "id": "474555b2",
   "metadata": {},
   "outputs": [
    {
     "data": {
      "text/plain": [
       "array(['UNMARRIED', 'Married', 'MARRIED', 'Widowed', 'Divorced',\n",
       "       'Cohabiting', 'DIvorced'], dtype=object)"
      ]
     },
     "execution_count": 10,
     "metadata": {},
     "output_type": "execute_result"
    }
   ],
   "source": [
    "df[\"Marital Status\"].unique()"
   ]
  },
  {
   "cell_type": "markdown",
   "id": "d67a66eb",
   "metadata": {},
   "source": [
    "The element options in the Marital Status column is not consistent, we use a consistent way to store them to reduce the repetition"
   ]
  },
  {
   "cell_type": "code",
   "execution_count": 11,
   "id": "06a5871d",
   "metadata": {},
   "outputs": [],
   "source": [
    "#Capitalize the elements in the column\n",
    "df[\"Marital Status\"] = df[\"Marital Status\"].str.capitalize()"
   ]
  },
  {
   "cell_type": "code",
   "execution_count": 12,
   "id": "f0fdcb9f",
   "metadata": {},
   "outputs": [
    {
     "data": {
      "text/plain": [
       "array(['Unmarried', 'Married', 'Widowed', 'Divorced', 'Cohabiting'],\n",
       "      dtype=object)"
      ]
     },
     "execution_count": 12,
     "metadata": {},
     "output_type": "execute_result"
    }
   ],
   "source": [
    "df[\"Marital Status\"].unique()"
   ]
  },
  {
   "cell_type": "code",
   "execution_count": 13,
   "id": "aae321aa",
   "metadata": {},
   "outputs": [
    {
     "data": {
      "text/plain": [
       "array(['NO', 'YES', 'No', 'Yes'], dtype=object)"
      ]
     },
     "execution_count": 13,
     "metadata": {},
     "output_type": "execute_result"
    }
   ],
   "source": [
    "df[\"STD\"].unique()"
   ]
  },
  {
   "cell_type": "markdown",
   "id": "4737835b",
   "metadata": {},
   "source": [
    "The element options in the STD column is not consistent, we use a consistent way to store them to reduce the repetition"
   ]
  },
  {
   "cell_type": "code",
   "execution_count": 14,
   "id": "64b3980b",
   "metadata": {},
   "outputs": [],
   "source": [
    "#Capitalize the elements in the column\n",
    "df[\"STD\"]= df[\"STD\"].str.capitalize()"
   ]
  },
  {
   "cell_type": "code",
   "execution_count": 15,
   "id": "b4bacb76",
   "metadata": {},
   "outputs": [
    {
     "data": {
      "text/plain": [
       "array(['No', 'Yes'], dtype=object)"
      ]
     },
     "execution_count": 15,
     "metadata": {},
     "output_type": "execute_result"
    }
   ],
   "source": [
    "df[\"STD\"].unique()"
   ]
  },
  {
   "cell_type": "code",
   "execution_count": 16,
   "id": "f8b5c20d",
   "metadata": {},
   "outputs": [
    {
     "data": {
      "text/plain": [
       "array(['College Degree', 'Senior High School', 'Junior High School',\n",
       "       'Illiteracy', 'Primary School', 'College Dregree'], dtype=object)"
      ]
     },
     "execution_count": 16,
     "metadata": {},
     "output_type": "execute_result"
    }
   ],
   "source": [
    "df[\"Educational Background\"].unique()"
   ]
  },
  {
   "cell_type": "code",
   "execution_count": 17,
   "id": "0c770689",
   "metadata": {},
   "outputs": [],
   "source": [
    "#replace wrong entries('College Dregree') with the right entries('College Degree')\n",
    "df[\"Educational Background\"]= df[\"Educational Background\"].replace({\"College Dregree\":\"College Degree\"})"
   ]
  },
  {
   "cell_type": "code",
   "execution_count": 18,
   "id": "96b98737",
   "metadata": {},
   "outputs": [
    {
     "data": {
      "text/plain": [
       "array(['College Degree', 'Senior High School', 'Junior High School',\n",
       "       'Illiteracy', 'Primary School'], dtype=object)"
      ]
     },
     "execution_count": 18,
     "metadata": {},
     "output_type": "execute_result"
    }
   ],
   "source": [
    "df[\"Educational Background\"].unique()"
   ]
  },
  {
   "cell_type": "code",
   "execution_count": 19,
   "id": "dffb5075",
   "metadata": {},
   "outputs": [],
   "source": [
    "df[\"HIV TEST IN PAST YEAR\"]= df[\"HIV TEST IN PAST YEAR\"].str.capitalize()"
   ]
  },
  {
   "cell_type": "code",
   "execution_count": 20,
   "id": "a788ea74",
   "metadata": {},
   "outputs": [
    {
     "data": {
      "text/plain": [
       "array(['Yes', 'No'], dtype=object)"
      ]
     },
     "execution_count": 20,
     "metadata": {},
     "output_type": "execute_result"
    }
   ],
   "source": [
    "df[\"HIV TEST IN PAST YEAR\"].unique()"
   ]
  },
  {
   "cell_type": "code",
   "execution_count": 21,
   "id": "adf2d072",
   "metadata": {},
   "outputs": [
    {
     "data": {
      "text/plain": [
       "array(['NO', 'YES', 'No', 'Yes'], dtype=object)"
      ]
     },
     "execution_count": 21,
     "metadata": {},
     "output_type": "execute_result"
    }
   ],
   "source": [
    "df[\"AIDS education\"].unique()"
   ]
  },
  {
   "cell_type": "code",
   "execution_count": 22,
   "id": "d5d314a5",
   "metadata": {},
   "outputs": [],
   "source": [
    "#working capitalized case\n",
    "df[\"AIDS education\"]= df[\"AIDS education\"].str.capitalize()"
   ]
  },
  {
   "cell_type": "code",
   "execution_count": 23,
   "id": "746e7b32",
   "metadata": {},
   "outputs": [
    {
     "data": {
      "text/plain": [
       "array(['No', 'Yes'], dtype=object)"
      ]
     },
     "execution_count": 23,
     "metadata": {},
     "output_type": "execute_result"
    }
   ],
   "source": [
    "df[\"AIDS education\"].unique()"
   ]
  },
  {
   "cell_type": "code",
   "execution_count": 24,
   "id": "6d033328",
   "metadata": {},
   "outputs": [
    {
     "data": {
      "text/plain": [
       "array(['Bar', 'None', 'Park', 'Internet', 'Public bath', 'Public Bath',\n",
       "       'Others'], dtype=object)"
      ]
     },
     "execution_count": 24,
     "metadata": {},
     "output_type": "execute_result"
    }
   ],
   "source": [
    "df[\"Places of seeking sex partners\"].unique()"
   ]
  },
  {
   "cell_type": "code",
   "execution_count": 25,
   "id": "bc4279c5",
   "metadata": {},
   "outputs": [],
   "source": [
    "df[\"Places of seeking sex partners\"]= df[\"Places of seeking sex partners\"].str.capitalize()"
   ]
  },
  {
   "cell_type": "code",
   "execution_count": 26,
   "id": "72595c7c",
   "metadata": {},
   "outputs": [
    {
     "data": {
      "text/plain": [
       "array(['Bar', 'None', 'Park', 'Internet', 'Public bath', 'Others'],\n",
       "      dtype=object)"
      ]
     },
     "execution_count": 26,
     "metadata": {},
     "output_type": "execute_result"
    }
   ],
   "source": [
    "df[\"Places of seeking sex partners\"].unique()"
   ]
  },
  {
   "cell_type": "code",
   "execution_count": 27,
   "id": "f98d87e1",
   "metadata": {},
   "outputs": [
    {
     "data": {
      "text/plain": [
       "array(['Heterosexual', 'Bisexual', 'Homosexual', 'Hetersexual',\n",
       "       'BIsexual'], dtype=object)"
      ]
     },
     "execution_count": 27,
     "metadata": {},
     "output_type": "execute_result"
    }
   ],
   "source": [
    "df[\"SEXUAL ORIENTATION\"].unique()"
   ]
  },
  {
   "cell_type": "code",
   "execution_count": 28,
   "id": "14ec1ed3",
   "metadata": {},
   "outputs": [],
   "source": [
    "#replace wrong data entry spellings with correct spelling\n",
    "df[\"SEXUAL ORIENTATION\"]= df[\"SEXUAL ORIENTATION\"].replace({\"Hetersexual\":\"Heterosexual\",\"BIsexual\":\"Bisexual\"})"
   ]
  },
  {
   "cell_type": "code",
   "execution_count": 29,
   "id": "e4344925",
   "metadata": {},
   "outputs": [
    {
     "data": {
      "text/plain": [
       "array(['Heterosexual', 'Bisexual', 'Homosexual'], dtype=object)"
      ]
     },
     "execution_count": 29,
     "metadata": {},
     "output_type": "execute_result"
    }
   ],
   "source": [
    "df[\"SEXUAL ORIENTATION\"].unique()"
   ]
  },
  {
   "cell_type": "code",
   "execution_count": 30,
   "id": "1a57f82a",
   "metadata": {},
   "outputs": [
    {
     "data": {
      "text/plain": [
       "array(['YES', 'NO', 'No', 'Yes'], dtype=object)"
      ]
     },
     "execution_count": 30,
     "metadata": {},
     "output_type": "execute_result"
    }
   ],
   "source": [
    "df[\"Drug- taking\"].unique()"
   ]
  },
  {
   "cell_type": "code",
   "execution_count": 31,
   "id": "671eeec3",
   "metadata": {},
   "outputs": [],
   "source": [
    "#working capitalized case\n",
    "df[\"Drug- taking\"]= df[\"Drug- taking\"].str.capitalize()"
   ]
  },
  {
   "cell_type": "code",
   "execution_count": 32,
   "id": "9a035057",
   "metadata": {},
   "outputs": [
    {
     "data": {
      "text/plain": [
       "array(['Yes', 'No'], dtype=object)"
      ]
     },
     "execution_count": 32,
     "metadata": {},
     "output_type": "execute_result"
    }
   ],
   "source": [
    "df[\"Drug- taking\"].unique()"
   ]
  },
  {
   "cell_type": "code",
   "execution_count": 33,
   "id": "f312aa99",
   "metadata": {},
   "outputs": [
    {
     "data": {
      "text/plain": [
       "array(['POSITIVE', 'NEGATIVE', 'Positive', 'Negative'], dtype=object)"
      ]
     },
     "execution_count": 33,
     "metadata": {},
     "output_type": "execute_result"
    }
   ],
   "source": [
    "df[\"Result\"].unique()"
   ]
  },
  {
   "cell_type": "code",
   "execution_count": 34,
   "id": "56a94b61",
   "metadata": {},
   "outputs": [],
   "source": [
    "df[\"Result\"]= df[\"Result\"].str.capitalize()"
   ]
  },
  {
   "cell_type": "code",
   "execution_count": 35,
   "id": "39ce61f4",
   "metadata": {},
   "outputs": [
    {
     "data": {
      "text/plain": [
       "array(['Positive', 'Negative'], dtype=object)"
      ]
     },
     "execution_count": 35,
     "metadata": {},
     "output_type": "execute_result"
    }
   ],
   "source": [
    "df[\"Result\"].unique()"
   ]
  },
  {
   "cell_type": "markdown",
   "id": "eaf4d349",
   "metadata": {},
   "source": [
    "## checking for dulicates"
   ]
  },
  {
   "cell_type": "code",
   "execution_count": 36,
   "id": "a8689e1c",
   "metadata": {},
   "outputs": [
    {
     "data": {
      "text/html": [
       "<div>\n",
       "<style scoped>\n",
       "    .dataframe tbody tr th:only-of-type {\n",
       "        vertical-align: middle;\n",
       "    }\n",
       "\n",
       "    .dataframe tbody tr th {\n",
       "        vertical-align: top;\n",
       "    }\n",
       "\n",
       "    .dataframe thead th {\n",
       "        text-align: right;\n",
       "    }\n",
       "</style>\n",
       "<table border=\"1\" class=\"dataframe\">\n",
       "  <thead>\n",
       "    <tr style=\"text-align: right;\">\n",
       "      <th></th>\n",
       "      <th>Age</th>\n",
       "      <th>Marital Status</th>\n",
       "      <th>STD</th>\n",
       "      <th>Educational Background</th>\n",
       "      <th>HIV TEST IN PAST YEAR</th>\n",
       "      <th>AIDS education</th>\n",
       "      <th>Places of seeking sex partners</th>\n",
       "      <th>SEXUAL ORIENTATION</th>\n",
       "      <th>Drug- taking</th>\n",
       "      <th>Result</th>\n",
       "    </tr>\n",
       "  </thead>\n",
       "  <tbody>\n",
       "    <tr>\n",
       "      <th>0</th>\n",
       "      <td>22</td>\n",
       "      <td>Unmarried</td>\n",
       "      <td>No</td>\n",
       "      <td>College Degree</td>\n",
       "      <td>Yes</td>\n",
       "      <td>No</td>\n",
       "      <td>Bar</td>\n",
       "      <td>Heterosexual</td>\n",
       "      <td>Yes</td>\n",
       "      <td>Positive</td>\n",
       "    </tr>\n",
       "    <tr>\n",
       "      <th>1</th>\n",
       "      <td>20</td>\n",
       "      <td>Unmarried</td>\n",
       "      <td>No</td>\n",
       "      <td>College Degree</td>\n",
       "      <td>No</td>\n",
       "      <td>Yes</td>\n",
       "      <td>None</td>\n",
       "      <td>Heterosexual</td>\n",
       "      <td>No</td>\n",
       "      <td>Negative</td>\n",
       "    </tr>\n",
       "    <tr>\n",
       "      <th>2</th>\n",
       "      <td>23</td>\n",
       "      <td>Married</td>\n",
       "      <td>Yes</td>\n",
       "      <td>College Degree</td>\n",
       "      <td>No</td>\n",
       "      <td>Yes</td>\n",
       "      <td>None</td>\n",
       "      <td>Bisexual</td>\n",
       "      <td>No</td>\n",
       "      <td>Negative</td>\n",
       "    </tr>\n",
       "    <tr>\n",
       "      <th>4</th>\n",
       "      <td>18</td>\n",
       "      <td>Unmarried</td>\n",
       "      <td>Yes</td>\n",
       "      <td>Senior High School</td>\n",
       "      <td>Yes</td>\n",
       "      <td>No</td>\n",
       "      <td>Internet</td>\n",
       "      <td>Heterosexual</td>\n",
       "      <td>Yes</td>\n",
       "      <td>Positive</td>\n",
       "    </tr>\n",
       "    <tr>\n",
       "      <th>7</th>\n",
       "      <td>15</td>\n",
       "      <td>Unmarried</td>\n",
       "      <td>No</td>\n",
       "      <td>Junior High School</td>\n",
       "      <td>Yes</td>\n",
       "      <td>No</td>\n",
       "      <td>Public bath</td>\n",
       "      <td>Bisexual</td>\n",
       "      <td>No</td>\n",
       "      <td>Positive</td>\n",
       "    </tr>\n",
       "    <tr>\n",
       "      <th>...</th>\n",
       "      <td>...</td>\n",
       "      <td>...</td>\n",
       "      <td>...</td>\n",
       "      <td>...</td>\n",
       "      <td>...</td>\n",
       "      <td>...</td>\n",
       "      <td>...</td>\n",
       "      <td>...</td>\n",
       "      <td>...</td>\n",
       "      <td>...</td>\n",
       "    </tr>\n",
       "    <tr>\n",
       "      <th>693</th>\n",
       "      <td>19</td>\n",
       "      <td>Unmarried</td>\n",
       "      <td>Yes</td>\n",
       "      <td>Illiteracy</td>\n",
       "      <td>No</td>\n",
       "      <td>No</td>\n",
       "      <td>Internet</td>\n",
       "      <td>Heterosexual</td>\n",
       "      <td>No</td>\n",
       "      <td>Positive</td>\n",
       "    </tr>\n",
       "    <tr>\n",
       "      <th>694</th>\n",
       "      <td>47</td>\n",
       "      <td>Married</td>\n",
       "      <td>No</td>\n",
       "      <td>College Degree</td>\n",
       "      <td>No</td>\n",
       "      <td>Yes</td>\n",
       "      <td>Bar</td>\n",
       "      <td>Bisexual</td>\n",
       "      <td>No</td>\n",
       "      <td>Negative</td>\n",
       "    </tr>\n",
       "    <tr>\n",
       "      <th>695</th>\n",
       "      <td>34</td>\n",
       "      <td>Unmarried</td>\n",
       "      <td>Yes</td>\n",
       "      <td>Senior High School</td>\n",
       "      <td>Yes</td>\n",
       "      <td>Yes</td>\n",
       "      <td>Park</td>\n",
       "      <td>Homosexual</td>\n",
       "      <td>Yes</td>\n",
       "      <td>Negative</td>\n",
       "    </tr>\n",
       "    <tr>\n",
       "      <th>696</th>\n",
       "      <td>25</td>\n",
       "      <td>Married</td>\n",
       "      <td>No</td>\n",
       "      <td>Junior High School</td>\n",
       "      <td>No</td>\n",
       "      <td>No</td>\n",
       "      <td>Public bath</td>\n",
       "      <td>Heterosexual</td>\n",
       "      <td>Yes</td>\n",
       "      <td>Positive</td>\n",
       "    </tr>\n",
       "    <tr>\n",
       "      <th>697</th>\n",
       "      <td>46</td>\n",
       "      <td>Cohabiting</td>\n",
       "      <td>Yes</td>\n",
       "      <td>Senior High School</td>\n",
       "      <td>Yes</td>\n",
       "      <td>No</td>\n",
       "      <td>Internet</td>\n",
       "      <td>Homosexual</td>\n",
       "      <td>No</td>\n",
       "      <td>Positive</td>\n",
       "    </tr>\n",
       "  </tbody>\n",
       "</table>\n",
       "<p>692 rows × 10 columns</p>\n",
       "</div>"
      ],
      "text/plain": [
       "     Age Marital Status  STD Educational Background HIV TEST IN PAST YEAR  \\\n",
       "0     22      Unmarried   No         College Degree                   Yes   \n",
       "1     20      Unmarried   No         College Degree                    No   \n",
       "2     23        Married  Yes         College Degree                    No   \n",
       "4     18      Unmarried  Yes     Senior High School                   Yes   \n",
       "7     15      Unmarried   No     Junior High School                   Yes   \n",
       "..   ...            ...  ...                    ...                   ...   \n",
       "693   19      Unmarried  Yes             Illiteracy                    No   \n",
       "694   47        Married   No         College Degree                    No   \n",
       "695   34      Unmarried  Yes     Senior High School                   Yes   \n",
       "696   25        Married   No     Junior High School                    No   \n",
       "697   46     Cohabiting  Yes     Senior High School                   Yes   \n",
       "\n",
       "    AIDS education Places of seeking sex partners SEXUAL ORIENTATION  \\\n",
       "0               No                            Bar       Heterosexual   \n",
       "1              Yes                           None       Heterosexual   \n",
       "2              Yes                           None           Bisexual   \n",
       "4               No                       Internet       Heterosexual   \n",
       "7               No                    Public bath           Bisexual   \n",
       "..             ...                            ...                ...   \n",
       "693             No                       Internet       Heterosexual   \n",
       "694            Yes                            Bar           Bisexual   \n",
       "695            Yes                           Park         Homosexual   \n",
       "696             No                    Public bath       Heterosexual   \n",
       "697             No                       Internet         Homosexual   \n",
       "\n",
       "    Drug- taking    Result  \n",
       "0            Yes  Positive  \n",
       "1             No  Negative  \n",
       "2             No  Negative  \n",
       "4            Yes  Positive  \n",
       "7             No  Positive  \n",
       "..           ...       ...  \n",
       "693           No  Positive  \n",
       "694           No  Negative  \n",
       "695          Yes  Negative  \n",
       "696          Yes  Positive  \n",
       "697           No  Positive  \n",
       "\n",
       "[692 rows x 10 columns]"
      ]
     },
     "execution_count": 36,
     "metadata": {},
     "output_type": "execute_result"
    }
   ],
   "source": [
    "df[df.duplicated(keep=False)]"
   ]
  },
  {
   "cell_type": "markdown",
   "id": "dfbe4b48",
   "metadata": {},
   "source": [
    "### 1 (a) What is the most common age group for individuals who tested positive for HIV in the past year?"
   ]
  },
  {
   "cell_type": "code",
   "execution_count": 37,
   "id": "9f1e7fa0",
   "metadata": {},
   "outputs": [
    {
     "data": {
      "text/plain": [
       "Age\n",
       "12     4\n",
       "13     6\n",
       "14     4\n",
       "15    40\n",
       "16     8\n",
       "      ..\n",
       "75     6\n",
       "76     6\n",
       "78    12\n",
       "79     4\n",
       "80     6\n",
       "Name: Result, Length: 65, dtype: int64"
      ]
     },
     "execution_count": 37,
     "metadata": {},
     "output_type": "execute_result"
    }
   ],
   "source": [
    "age_group= df.groupby([\"Age\"])[\"Result\"].count()\n",
    "age_group"
   ]
  },
  {
   "cell_type": "code",
   "execution_count": 38,
   "id": "86181da5",
   "metadata": {},
   "outputs": [
    {
     "data": {
      "text/plain": [
       "Text(0, 0.5, 'Frequency')"
      ]
     },
     "execution_count": 38,
     "metadata": {},
     "output_type": "execute_result"
    },
    {
     "data": {
      "image/png": "[encoded data removed]",
      "text/plain": [
       "<Figure size 720x648 with 1 Axes>"
      ]
     },
     "metadata": {
      "needs_background": "light"
     },
     "output_type": "display_data"
    }
   ],
   "source": [
    "x= age_group.index\n",
    "y= age_group.values\n",
    "plt.figure(figsize=(10,9))\n",
    "plt.grid(True)\n",
    "plt.bar(x, y)\n",
    "plt.title(\"most common age group for individuals who tested positive for HIV in the past year\")\n",
    "plt.xlabel(\"Age group\")\n",
    "plt.ylabel(\"Frequency\")"
   ]
  },
  {
   "cell_type": "markdown",
   "id": "382667bc",
   "metadata": {},
   "source": [
    "Teenagers/young adults have the highest population for those that tested positive , then followed by those in their mid-30s and mid-20s. \n",
    "this implies that the virus is common with people in their active ages (young people). The most common age that tested positive is 15years."
   ]
  },
  {
   "cell_type": "code",
   "execution_count": 39,
   "id": "f9a2ff7f",
   "metadata": {},
   "outputs": [
    {
     "data": {
      "text/plain": [
       "<seaborn.axisgrid.FacetGrid at 0x1cfba119b80>"
      ]
     },
     "execution_count": 39,
     "metadata": {},
     "output_type": "execute_result"
    },
    {
     "data": {
      "text/plain": [
       "<Figure size 720x576 with 0 Axes>"
      ]
     },
     "metadata": {},
     "output_type": "display_data"
    },
    {
     "data": {
      "image/png": "[encoded data removed]",
      "text/plain": [
       "<Figure size 360x360 with 1 Axes>"
      ]
     },
     "metadata": {
      "needs_background": "light"
     },
     "output_type": "display_data"
    }
   ],
   "source": [
    "#plot a categorical plot of age and those who tested positive\n",
    "plt.figure(figsize=(10,8))\n",
    "sns.catplot(data=df, x=\"Result\",y=\"Age\", kind=\"boxen\")"
   ]
  },
  {
   "cell_type": "markdown",
   "id": "7349da33",
   "metadata": {},
   "source": [
    "## 1(b) How does age correlate with the likelihood of having received AIDS education?"
   ]
  },
  {
   "cell_type": "code",
   "execution_count": 40,
   "id": "bee39f7b",
   "metadata": {},
   "outputs": [
    {
     "data": {
      "text/html": [
       "<div>\n",
       "<style scoped>\n",
       "    .dataframe tbody tr th:only-of-type {\n",
       "        vertical-align: middle;\n",
       "    }\n",
       "\n",
       "    .dataframe tbody tr th {\n",
       "        vertical-align: top;\n",
       "    }\n",
       "\n",
       "    .dataframe thead th {\n",
       "        text-align: right;\n",
       "    }\n",
       "</style>\n",
       "<table border=\"1\" class=\"dataframe\">\n",
       "  <thead>\n",
       "    <tr style=\"text-align: right;\">\n",
       "      <th></th>\n",
       "      <th>Age</th>\n",
       "    </tr>\n",
       "  </thead>\n",
       "  <tbody>\n",
       "    <tr>\n",
       "      <th>Age</th>\n",
       "      <td>1.0</td>\n",
       "    </tr>\n",
       "  </tbody>\n",
       "</table>\n",
       "</div>"
      ],
      "text/plain": [
       "     Age\n",
       "Age  1.0"
      ]
     },
     "execution_count": 40,
     "metadata": {},
     "output_type": "execute_result"
    }
   ],
   "source": [
    "df.corr()"
   ]
  },
  {
   "cell_type": "code",
   "execution_count": 41,
   "id": "2fcf1454",
   "metadata": {},
   "outputs": [
    {
     "data": {
      "text/plain": [
       "AIDS education\n",
       "No     413\n",
       "Yes    285\n",
       "Name: Age, dtype: int64"
      ]
     },
     "execution_count": 41,
     "metadata": {},
     "output_type": "execute_result"
    }
   ],
   "source": [
    "# 1(b) How does age correlate with the likelihood of having received AIDS education?\n",
    "df.groupby(\"AIDS education\")[\"Age\"].count()"
   ]
  },
  {
   "cell_type": "code",
   "execution_count": 42,
   "id": "7e431093",
   "metadata": {},
   "outputs": [
    {
     "data": {
      "text/plain": [
       "Text(0.5, 1.0, 'age correlate with the likelihood of having received AIDS education')"
      ]
     },
     "execution_count": 42,
     "metadata": {},
     "output_type": "execute_result"
    },
    {
     "data": {
      "image/png": "[encoded data removed]",
      "text/plain": [
       "<Figure size 432x288 with 1 Axes>"
      ]
     },
     "metadata": {
      "needs_background": "light"
     },
     "output_type": "display_data"
    }
   ],
   "source": [
    "x= df.groupby(\"AIDS education\")[\"Age\"].count().index\n",
    "y= df.groupby(\"AIDS education\")[\"Age\"].count().values\n",
    "plt.bar(x,y)\n",
    "plt.title(\"age correlate with the likelihood of having received AIDS education\")"
   ]
  },
  {
   "cell_type": "markdown",
   "id": "3c5937cd",
   "metadata": {},
   "source": [
    "Generally,  the population for the ages of people with the likelihood of having recieved AIDS education is low \n",
    "as compared to those who have never recieved such education."
   ]
  },
  {
   "cell_type": "code",
   "execution_count": 43,
   "id": "846b2585",
   "metadata": {},
   "outputs": [
    {
     "data": {
      "text/plain": [
       "<seaborn.axisgrid.FacetGrid at 0x1cfba2dfb50>"
      ]
     },
     "execution_count": 43,
     "metadata": {},
     "output_type": "execute_result"
    },
    {
     "data": {
      "text/plain": [
       "<Figure size 720x648 with 0 Axes>"
      ]
     },
     "metadata": {},
     "output_type": "display_data"
    },
    {
     "data": {
      "image/png": "[encoded data removed]",
      "text/plain": [
       "<Figure size 440.875x360 with 1 Axes>"
      ]
     },
     "metadata": {
      "needs_background": "light"
     },
     "output_type": "display_data"
    }
   ],
   "source": [
    "plt.figure(figsize=(10,9))\n",
    "sns.catplot(data=df, x=\"AIDS education\" , y=\"Age\", hue=\"Result\")"
   ]
  },
  {
   "cell_type": "markdown",
   "id": "a6d0f14b",
   "metadata": {},
   "source": [
    "The observation above from seaborn the plot shows that the people who do not have AIDS education have a high population between the ages of 18 and 49, the lack of AIDS education also increases the posiblity for them to contract the virus. \n",
    "this implies that AIDS education plays a role to mitigate the statisics of those living with the virus.\n",
    "However, generally it is observed that younger people have the propensity to contract the virus."
   ]
  },
  {
   "cell_type": "markdown",
   "id": "e175ce1b",
   "metadata": {},
   "source": [
    "## 2(a) Which marital status group shows the highest prevalence of STDs?"
   ]
  },
  {
   "cell_type": "code",
   "execution_count": 44,
   "id": "86d93cee",
   "metadata": {},
   "outputs": [
    {
     "data": {
      "text/plain": [
       "Marital Status\n",
       "Cohabiting     36\n",
       "Divorced      102\n",
       "Married       202\n",
       "Unmarried     276\n",
       "Widowed        82\n",
       "Name: STD, dtype: int64"
      ]
     },
     "execution_count": 44,
     "metadata": {},
     "output_type": "execute_result"
    }
   ],
   "source": [
    "df.groupby(\"Marital Status\")[\"STD\"].count()"
   ]
  },
  {
   "cell_type": "code",
   "execution_count": 45,
   "id": "ec6a7bcd",
   "metadata": {},
   "outputs": [
    {
     "data": {
      "text/plain": [
       "Text(0.5, 1.0, 'marital status group shows the highest prevalence of STDs')"
      ]
     },
     "execution_count": 45,
     "metadata": {},
     "output_type": "execute_result"
    },
    {
     "data": {
      "image/png": "[encoded data removed]",
      "text/plain": [
       "<Figure size 720x648 with 1 Axes>"
      ]
     },
     "metadata": {},
     "output_type": "display_data"
    }
   ],
   "source": [
    "plt.figure(figsize=(10,9))\n",
    "labels= df.groupby(\"Marital Status\")[\"STD\"].count().index\n",
    "x= df.groupby(\"Marital Status\")[\"STD\"].count().values\n",
    "plt.pie(x, labels=labels, explode=[0,0,0,0.2,0])\n",
    "plt.title(\"marital status group shows the highest prevalence of STDs\")"
   ]
  },
  {
   "cell_type": "markdown",
   "id": "fa7f97b4",
   "metadata": {},
   "source": [
    "the highest prevalence of STDs is in the Umarried population"
   ]
  },
  {
   "cell_type": "code",
   "execution_count": 46,
   "id": "1b9a37ec",
   "metadata": {},
   "outputs": [
    {
     "data": {
      "text/plain": [
       "Text(0.5, 1.0, 'marital status group shows the highest prevalence of STDs')"
      ]
     },
     "execution_count": 46,
     "metadata": {},
     "output_type": "execute_result"
    },
    {
     "data": {
      "image/png": "[encoded data removed]",
      "text/plain": [
       "<Figure size 720x648 with 1 Axes>"
      ]
     },
     "metadata": {
      "needs_background": "light"
     },
     "output_type": "display_data"
    }
   ],
   "source": [
    "plt.figure(figsize=(10,9))\n",
    "sns.countplot(data=df, x=\"Marital Status\", hue=\"STD\")\n",
    "plt.title(\"marital status group shows the highest prevalence of STDs\")"
   ]
  },
  {
   "cell_type": "markdown",
   "id": "7a8303af",
   "metadata": {},
   "source": [
    "Unmarried people have a high rate of contracting STDs, follwed by Married people. \n",
    "While the least rate for contracting STDs is the cohabiting marital status"
   ]
  },
  {
   "cell_type": "markdown",
   "id": "cf0a4604",
   "metadata": {},
   "source": [
    "## 2(b) What is the relationship between marital status and the frequency of HIV testing in the past year?"
   ]
  },
  {
   "cell_type": "code",
   "execution_count": 47,
   "id": "4b9eaafb",
   "metadata": {},
   "outputs": [
    {
     "data": {
      "text/plain": [
       "Marital Status\n",
       "Cohabiting     36\n",
       "Divorced      102\n",
       "Married       202\n",
       "Unmarried     276\n",
       "Widowed        82\n",
       "Name: HIV TEST IN PAST YEAR, dtype: int64"
      ]
     },
     "execution_count": 47,
     "metadata": {},
     "output_type": "execute_result"
    }
   ],
   "source": [
    "df.groupby(\"Marital Status\")[\"HIV TEST IN PAST YEAR\"].count()"
   ]
  },
  {
   "cell_type": "code",
   "execution_count": 48,
   "id": "97321da1",
   "metadata": {},
   "outputs": [
    {
     "data": {
      "text/plain": [
       "Text(0.5, 1.0, 'the relationship between marital status and the frequency of HIV testing in the past year')"
      ]
     },
     "execution_count": 48,
     "metadata": {},
     "output_type": "execute_result"
    },
    {
     "data": {
      "image/png": "[encoded data removed]",
      "text/plain": [
       "<Figure size 720x648 with 1 Axes>"
      ]
     },
     "metadata": {
      "needs_background": "light"
     },
     "output_type": "display_data"
    }
   ],
   "source": [
    "plt.figure(figsize=(10,9))\n",
    "sns.countplot(data=df, x=\"Marital Status\", hue=\"HIV TEST IN PAST YEAR\")\n",
    "plt.title(\"the relationship between marital status and the frequency of HIV testing in the past year\")"
   ]
  },
  {
   "cell_type": "markdown",
   "id": "8183e481",
   "metadata": {},
   "source": [
    "Unmarried people have the highest population of people who do not do frequent testing in the past year (Unmarried people have the highest numbers for both testing compliance and non-compliance, but the effect of non-compliance outweights compliance) \n",
    "while those cohabiting have the least population for those who do no test frequently."
   ]
  },
  {
   "cell_type": "markdown",
   "id": "8025f577",
   "metadata": {},
   "source": [
    "## 3(a) Which STD is most commonly reported among individuals with different educational backgrounds?"
   ]
  },
  {
   "cell_type": "code",
   "execution_count": 49,
   "id": "a5fca1d4",
   "metadata": {},
   "outputs": [
    {
     "data": {
      "text/plain": [
       "Educational Background\n",
       "College Degree        238\n",
       "Illiteracy            108\n",
       "Junior High School    136\n",
       "Primary School         80\n",
       "Senior High School    136\n",
       "Name: STD, dtype: int64"
      ]
     },
     "execution_count": 49,
     "metadata": {},
     "output_type": "execute_result"
    }
   ],
   "source": [
    "df.groupby(\"Educational Background\")[\"STD\"].count()"
   ]
  },
  {
   "cell_type": "markdown",
   "id": "8bc80646",
   "metadata": {},
   "source": [
    "from the given data there are no specified list of STDs (Insuffient data), hence it will be difficult to specify among individual.\n",
    "But we can show the relationship between their educational background and STD"
   ]
  },
  {
   "cell_type": "code",
   "execution_count": 50,
   "id": "566aa5ea",
   "metadata": {},
   "outputs": [
    {
     "data": {
      "text/plain": [
       "Text(0.5, 1.0, 'relationship between Educational Background and STD')"
      ]
     },
     "execution_count": 50,
     "metadata": {},
     "output_type": "execute_result"
    },
    {
     "data": {
      "image/png": "[encoded data removed]",
      "text/plain": [
       "<Figure size 432x288 with 1 Axes>"
      ]
     },
     "metadata": {
      "needs_background": "light"
     },
     "output_type": "display_data"
    }
   ],
   "source": [
    "x= df.groupby(\"Educational Background\")[\"STD\"].count().sort_values().index\n",
    "y= df.groupby(\"Educational Background\")[\"STD\"].count().sort_values().values\n",
    "plt.bar(x,y)\n",
    "plt.xticks(rotation=45)\n",
    "plt.title(\"relationship between Educational Background and STD\")"
   ]
  },
  {
   "cell_type": "code",
   "execution_count": null,
   "id": "f8d4b36e",
   "metadata": {},
   "outputs": [],
   "source": []
  },
  {
   "cell_type": "markdown",
   "id": "b0ab6eaf",
   "metadata": {},
   "source": [
    "the population of those with college degrees have a high rate of contracting STDs, while the population of those with primary school certificate have the least populationof contracting STDs."
   ]
  },
  {
   "cell_type": "code",
   "execution_count": 51,
   "id": "635f0d48",
   "metadata": {},
   "outputs": [
    {
     "data": {
      "text/plain": [
       "Text(0.5, 1.0, 'relationship between Educational Background and STD expanded')"
      ]
     },
     "execution_count": 51,
     "metadata": {},
     "output_type": "execute_result"
    },
    {
     "data": {
      "image/png": "[encoded data removed]",
      "text/plain": [
       "<Figure size 720x576 with 1 Axes>"
      ]
     },
     "metadata": {
      "needs_background": "light"
     },
     "output_type": "display_data"
    }
   ],
   "source": [
    "plt.figure(figsize=(10,8))\n",
    "sns.countplot(data=df, x=\"STD\", hue=\"Educational Background\")\n",
    "plt.title(\"relationship between Educational Background and STD expanded\")"
   ]
  },
  {
   "cell_type": "markdown",
   "id": "96235623",
   "metadata": {},
   "source": [
    "people without college education have a great population of people without STDs(143) when compared to those with college degree(85). \n",
    "conversly, the population of illiterates who have STDs are higher than those that do not have it (64 vs 40 respectively)."
   ]
  },
  {
   "cell_type": "markdown",
   "id": "0d96978f",
   "metadata": {},
   "source": [
    "## 3(b) Is there a significant difference in the prevalence of STDs between different sexual orientations?"
   ]
  },
  {
   "cell_type": "code",
   "execution_count": 52,
   "id": "87c3db71",
   "metadata": {},
   "outputs": [
    {
     "data": {
      "text/plain": [
       "SEXUAL ORIENTATION\n",
       "Bisexual        150\n",
       "Heterosexual    374\n",
       "Homosexual      174\n",
       "Name: STD, dtype: int64"
      ]
     },
     "execution_count": 52,
     "metadata": {},
     "output_type": "execute_result"
    }
   ],
   "source": [
    "sex_orient= df.groupby(\"SEXUAL ORIENTATION\")[\"STD\"].count()\n",
    "sex_orient"
   ]
  },
  {
   "cell_type": "code",
   "execution_count": 53,
   "id": "f0910d4f",
   "metadata": {},
   "outputs": [
    {
     "data": {
      "text/plain": [
       "([<matplotlib.patches.Wedge at 0x1cfba73ed00>,\n",
       "  <matplotlib.patches.Wedge at 0x1cfbaadaa30>,\n",
       "  <matplotlib.patches.Wedge at 0x1cfbaadaeb0>],\n",
       " [Text(0.8586900814844436, 0.6874964319618246, 'Bisexual'),\n",
       "  Text(-1.093588617320031, 0.11859146709634254, 'Heterosexual'),\n",
       "  Text(0.7795658985701304, -0.7760650808962772, 'Homosexual')])"
      ]
     },
     "execution_count": 53,
     "metadata": {},
     "output_type": "execute_result"
    },
    {
     "data": {
      "image/png": "[encoded data removed]",
      "text/plain": [
       "<Figure size 720x576 with 1 Axes>"
      ]
     },
     "metadata": {},
     "output_type": "display_data"
    }
   ],
   "source": [
    "labels= sex_orient.index\n",
    "x= sex_orient.values\n",
    "plt.figure(figsize=(10,8))\n",
    "plt.pie(x, labels=labels)"
   ]
  },
  {
   "cell_type": "code",
   "execution_count": 54,
   "id": "e551584c",
   "metadata": {},
   "outputs": [
    {
     "data": {
      "text/plain": [
       "<AxesSubplot:xlabel='SEXUAL ORIENTATION', ylabel='count'>"
      ]
     },
     "execution_count": 54,
     "metadata": {},
     "output_type": "execute_result"
    },
    {
     "data": {
      "image/png": "[encoded data removed]",
      "text/plain": [
       "<Figure size 720x576 with 1 Axes>"
      ]
     },
     "metadata": {
      "needs_background": "light"
     },
     "output_type": "display_data"
    }
   ],
   "source": [
    "plt.figure(figsize=(10,8))\n",
    "sns.countplot(data=df, x=\"SEXUAL ORIENTATION\", hue=\"STD\")"
   ]
  },
  {
   "cell_type": "markdown",
   "id": "6385185f",
   "metadata": {},
   "source": [
    "The Heterosexual sexual orientation have the highest population both for people that have STDs and those who do not have it. \n",
    "followed by homosexual. Bisexuals are the least in population."
   ]
  },
  {
   "cell_type": "markdown",
   "id": "313551c2",
   "metadata": {},
   "source": [
    "## 4(a) How does educational background affect the awareness and knowledge of AIDS?"
   ]
  },
  {
   "cell_type": "code",
   "execution_count": 55,
   "id": "4e7a0983",
   "metadata": {},
   "outputs": [
    {
     "data": {
      "text/plain": [
       "Educational Background\n",
       "Primary School         80\n",
       "Illiteracy            108\n",
       "Junior High School    136\n",
       "Senior High School    136\n",
       "College Degree        238\n",
       "Name: AIDS education, dtype: int64"
      ]
     },
     "execution_count": 55,
     "metadata": {},
     "output_type": "execute_result"
    }
   ],
   "source": [
    "edu_background= df.groupby(\"Educational Background\")[\"AIDS education\"].count().sort_values()\n",
    "edu_background"
   ]
  },
  {
   "cell_type": "code",
   "execution_count": 56,
   "id": "a931a399",
   "metadata": {},
   "outputs": [
    {
     "data": {
      "text/plain": [
       "Text(0.5, 1.0, 'How educational background affect the awareness and knowledge of AIDS')"
      ]
     },
     "execution_count": 56,
     "metadata": {},
     "output_type": "execute_result"
    },
    {
     "data": {
      "image/png": "[encoded data removed]",
      "text/plain": [
       "<Figure size 720x576 with 1 Axes>"
      ]
     },
     "metadata": {
      "needs_background": "light"
     },
     "output_type": "display_data"
    }
   ],
   "source": [
    "x= edu_background.index\n",
    "y= edu_background.values\n",
    "plt.figure(figsize=(10,8))\n",
    "plt.barh(x,y)\n",
    "plt.title(\"How educational background affect the awareness and knowledge of AIDS\")"
   ]
  },
  {
   "cell_type": "markdown",
   "id": "78b7d52e",
   "metadata": {},
   "source": [
    "the  chart above shows that educational background affects the awareness of AIDS.\n",
    "The population of people with college degree have the highest level of awareness \n",
    "while the population of people with primary education  have the least level of awareness"
   ]
  },
  {
   "cell_type": "markdown",
   "id": "4127b0c8",
   "metadata": {},
   "source": [
    "## 4(b)What educational background is most associated with drug-taking behaviors?"
   ]
  },
  {
   "cell_type": "code",
   "execution_count": 57,
   "id": "cbf65755",
   "metadata": {},
   "outputs": [
    {
     "data": {
      "text/plain": [
       "Educational Background\n",
       "Primary School         80\n",
       "Illiteracy            108\n",
       "Junior High School    136\n",
       "Senior High School    136\n",
       "College Degree        238\n",
       "Name: Drug- taking, dtype: int64"
      ]
     },
     "execution_count": 57,
     "metadata": {},
     "output_type": "execute_result"
    }
   ],
   "source": [
    "drug_take_edu= df.groupby(\"Educational Background\")[\"Drug- taking\"].count().sort_values()\n",
    "drug_take_edu"
   ]
  },
  {
   "cell_type": "code",
   "execution_count": 58,
   "id": "ebc69b25",
   "metadata": {},
   "outputs": [
    {
     "data": {
      "text/plain": [
       "([0, 1, 2, 3, 4],\n",
       " [Text(0, 0, ''),\n",
       "  Text(0, 0, ''),\n",
       "  Text(0, 0, ''),\n",
       "  Text(0, 0, ''),\n",
       "  Text(0, 0, '')])"
      ]
     },
     "execution_count": 58,
     "metadata": {},
     "output_type": "execute_result"
    },
    {
     "data": {
      "image/png": "[encoded data removed]",
      "text/plain": [
       "<Figure size 432x288 with 1 Axes>"
      ]
     },
     "metadata": {
      "needs_background": "light"
     },
     "output_type": "display_data"
    }
   ],
   "source": [
    "plt.bar(drug_take_edu.index, drug_take_edu.values)\n",
    "plt.xticks(rotation=90)"
   ]
  },
  {
   "cell_type": "code",
   "execution_count": 59,
   "id": "fcd5ba6e",
   "metadata": {},
   "outputs": [
    {
     "data": {
      "text/plain": [
       "Text(0.5, 1.0, 'educational background most associated with drug-taking behaviors')"
      ]
     },
     "execution_count": 59,
     "metadata": {},
     "output_type": "execute_result"
    },
    {
     "data": {
      "image/png": "[encoded data removed]",
      "text/plain": [
       "<Figure size 720x576 with 1 Axes>"
      ]
     },
     "metadata": {
      "needs_background": "light"
     },
     "output_type": "display_data"
    }
   ],
   "source": [
    "plt.figure(figsize=(10,8))\n",
    "sns.countplot(data=df, x=\"Educational Background\",hue=\"Drug- taking\")\n",
    "plt.title(\"educational background most associated with drug-taking behaviors\")"
   ]
  },
  {
   "cell_type": "markdown",
   "id": "35e75478",
   "metadata": {},
   "source": [
    "Drug-taking is highly prevalent with the college degree population and least with the primary school population, \n",
    "yet the people who abstain from drugs is greater than those who indulge in it for all educational background (except for Illiteracy level)"
   ]
  },
  {
   "cell_type": "markdown",
   "id": "df5704bb",
   "metadata": {},
   "source": [
    "## 5(a) What percentage of individuals tested for HIV in the past year were found to be HIV positive?"
   ]
  },
  {
   "cell_type": "code",
   "execution_count": 60,
   "id": "3fa792f3",
   "metadata": {},
   "outputs": [
    {
     "data": {
      "text/plain": [
       "Result\n",
       "Negative    352\n",
       "Positive    346\n",
       "Name: HIV TEST IN PAST YEAR, dtype: int64"
      ]
     },
     "execution_count": 60,
     "metadata": {},
     "output_type": "execute_result"
    }
   ],
   "source": [
    "df.groupby(\"Result\")[\"HIV TEST IN PAST YEAR\"].count()"
   ]
  },
  {
   "cell_type": "code",
   "execution_count": 61,
   "id": "4d16fd56",
   "metadata": {},
   "outputs": [
    {
     "data": {
      "text/plain": [
       "50.43"
      ]
     },
     "execution_count": 61,
     "metadata": {},
     "output_type": "execute_result"
    }
   ],
   "source": [
    "neg_percent= round((352/698)*100,3)\n",
    "neg_percent"
   ]
  },
  {
   "cell_type": "code",
   "execution_count": 62,
   "id": "e18ebfac",
   "metadata": {},
   "outputs": [
    {
     "data": {
      "text/plain": [
       "49.57"
      ]
     },
     "execution_count": 62,
     "metadata": {},
     "output_type": "execute_result"
    }
   ],
   "source": [
    "pos_percent= round((346/698)*100,3)\n",
    "pos_percent"
   ]
  },
  {
   "cell_type": "code",
   "execution_count": 63,
   "id": "a5f12f69",
   "metadata": {},
   "outputs": [
    {
     "data": {
      "text/plain": [
       "0.86"
      ]
     },
     "execution_count": 63,
     "metadata": {},
     "output_type": "execute_result"
    }
   ],
   "source": [
    "round(neg_percent - pos_percent, 3)"
   ]
  },
  {
   "cell_type": "markdown",
   "id": "d43fc646",
   "metadata": {},
   "source": [
    "the percentage difference between those who tested positive and those who tested negative is very slim 0.86%(Approximately 1%), \n",
    "those who tested negative is 50.43% while those who tested positive is 49.57%"
   ]
  },
  {
   "cell_type": "markdown",
   "id": "52cd7d39",
   "metadata": {},
   "source": [
    "## 5(b) How does the frequency of HIV testing vary with places of seeking sex partners?"
   ]
  },
  {
   "cell_type": "code",
   "execution_count": 64,
   "id": "ee2f8163",
   "metadata": {},
   "outputs": [
    {
     "data": {
      "text/plain": [
       "Places of seeking sex partners\n",
       "None            22\n",
       "Others          74\n",
       "Park           108\n",
       "Public bath    144\n",
       "Bar            150\n",
       "Internet       200\n",
       "Name: HIV TEST IN PAST YEAR, dtype: int64"
      ]
     },
     "execution_count": 64,
     "metadata": {},
     "output_type": "execute_result"
    }
   ],
   "source": [
    "places_sp= df.groupby(\"Places of seeking sex partners\")[\"HIV TEST IN PAST YEAR\"].count().sort_values()\n",
    "places_sp"
   ]
  },
  {
   "cell_type": "code",
   "execution_count": 65,
   "id": "d8628188",
   "metadata": {},
   "outputs": [
    {
     "data": {
      "text/plain": [
       "Text(0.5, 1.0, 'How the frequency of HIV testing vary with places of seeking sex partners')"
      ]
     },
     "execution_count": 65,
     "metadata": {},
     "output_type": "execute_result"
    },
    {
     "data": {
      "image/png": "[encoded data removed]",
      "text/plain": [
       "<Figure size 720x576 with 1 Axes>"
      ]
     },
     "metadata": {
      "needs_background": "light"
     },
     "output_type": "display_data"
    }
   ],
   "source": [
    "plt.figure(figsize=(10,8))\n",
    "plt.bar(places_sp.index, places_sp.values)\n",
    "plt.title(\"How the frequency of HIV testing vary with places of seeking sex partners\")"
   ]
  },
  {
   "cell_type": "markdown",
   "id": "c929732b",
   "metadata": {},
   "source": [
    "for those who frequently do the test in the past year, \n",
    "their places of seeking for sexual partner is high on the internet followed by bars"
   ]
  },
  {
   "cell_type": "markdown",
   "id": "668652cd",
   "metadata": {},
   "source": [
    "## 6. What impact does AIDS education have on the likelihood of individuals seeking HIV testing?"
   ]
  },
  {
   "cell_type": "code",
   "execution_count": 66,
   "id": "1d0267fc",
   "metadata": {},
   "outputs": [
    {
     "data": {
      "text/plain": [
       "HIV TEST IN PAST YEAR\n",
       "No     428\n",
       "Yes    270\n",
       "Name: AIDS education, dtype: int64"
      ]
     },
     "execution_count": 66,
     "metadata": {},
     "output_type": "execute_result"
    }
   ],
   "source": [
    "df.groupby(\"HIV TEST IN PAST YEAR\")[\"AIDS education\"].count()"
   ]
  },
  {
   "cell_type": "code",
   "execution_count": 67,
   "id": "f6931fbe",
   "metadata": {},
   "outputs": [
    {
     "data": {
      "text/plain": [
       "<AxesSubplot:xlabel='HIV TEST IN PAST YEAR', ylabel='count'>"
      ]
     },
     "execution_count": 67,
     "metadata": {},
     "output_type": "execute_result"
    },
    {
     "data": {
      "image/png": "[encoded data removed]",
      "text/plain": [
       "<Figure size 576x504 with 1 Axes>"
      ]
     },
     "metadata": {
      "needs_background": "light"
     },
     "output_type": "display_data"
    }
   ],
   "source": [
    "plt.figure(figsize=(8,7))\n",
    "sns.countplot(data=df, x=\"HIV TEST IN PAST YEAR\", hue=\"AIDS education\")"
   ]
  },
  {
   "cell_type": "code",
   "execution_count": null,
   "id": "32739bf7",
   "metadata": {},
   "outputs": [],
   "source": []
  },
  {
   "cell_type": "markdown",
   "id": "ddf938d3",
   "metadata": {},
   "source": [
    "## 7 What are the most common places of seeking sex partners among individuals who tested positive for STDs?"
   ]
  },
  {
   "cell_type": "code",
   "execution_count": 68,
   "id": "017e3a43",
   "metadata": {},
   "outputs": [
    {
     "data": {
      "text/plain": [
       "Places of seeking sex partners\n",
       "None            22\n",
       "Others          74\n",
       "Park           108\n",
       "Public bath    144\n",
       "Bar            150\n",
       "Internet       200\n",
       "Name: STD, dtype: int64"
      ]
     },
     "execution_count": 68,
     "metadata": {},
     "output_type": "execute_result"
    }
   ],
   "source": [
    "df.groupby(\"Places of seeking sex partners\")[\"STD\"].count().sort_values()"
   ]
  },
  {
   "cell_type": "code",
   "execution_count": 69,
   "id": "f90d9ff2",
   "metadata": {},
   "outputs": [
    {
     "data": {
      "text/plain": [
       "<AxesSubplot:xlabel='Places of seeking sex partners', ylabel='count'>"
      ]
     },
     "execution_count": 69,
     "metadata": {},
     "output_type": "execute_result"
    },
    {
     "data": {
      "image/png": "[encoded data removed]",
      "text/plain": [
       "<Figure size 648x576 with 1 Axes>"
      ]
     },
     "metadata": {
      "needs_background": "light"
     },
     "output_type": "display_data"
    }
   ],
   "source": [
    "plt.figure(figsize=(9,8))\n",
    "sns.countplot(data=df, x=\"Places of seeking sex partners\", hue=\"STD\")"
   ]
  },
  {
   "cell_type": "markdown",
   "id": "f49cafb0",
   "metadata": {},
   "source": [
    "The most common place of seeking sexual partneramong individual who tested positive to STDs is over the internet"
   ]
  },
  {
   "cell_type": "markdown",
   "id": "dc6b07c1",
   "metadata": {},
   "source": [
    "## 8 What is the distribution of sexual orientations among individuals who received AIDS education?"
   ]
  },
  {
   "cell_type": "code",
   "execution_count": 70,
   "id": "ee6a1186",
   "metadata": {},
   "outputs": [
    {
     "data": {
      "text/plain": [
       "SEXUAL ORIENTATION\n",
       "Bisexual        150\n",
       "Heterosexual    374\n",
       "Homosexual      174\n",
       "Name: AIDS education, dtype: int64"
      ]
     },
     "execution_count": 70,
     "metadata": {},
     "output_type": "execute_result"
    }
   ],
   "source": [
    "sex_orient= df.groupby(\"SEXUAL ORIENTATION\")[\"AIDS education\"].count()\n",
    "sex_orient"
   ]
  },
  {
   "cell_type": "code",
   "execution_count": 71,
   "id": "04df4ea0",
   "metadata": {},
   "outputs": [
    {
     "data": {
      "text/plain": [
       "Text(0.5, 1.0, 'distribution of sexual orientations among individuals who received AIDS education')"
      ]
     },
     "execution_count": 71,
     "metadata": {},
     "output_type": "execute_result"
    },
    {
     "data": {
      "image/png": "[encoded data removed]",
      "text/plain": [
       "<Figure size 720x576 with 1 Axes>"
      ]
     },
     "metadata": {
      "needs_background": "light"
     },
     "output_type": "display_data"
    }
   ],
   "source": [
    "x= sex_orient.index\n",
    "y= sex_orient.values\n",
    "plt.figure(figsize=(10,8))\n",
    "plt.bar(x,y)\n",
    "plt.title(\"distribution of sexual orientations among individuals who received AIDS education\")"
   ]
  },
  {
   "cell_type": "markdown",
   "id": "27d99889",
   "metadata": {},
   "source": [
    "## 9(a) What is the correlation between educational background and HIV status?"
   ]
  },
  {
   "cell_type": "code",
   "execution_count": 72,
   "id": "01e6fea5",
   "metadata": {},
   "outputs": [
    {
     "data": {
      "text/plain": [
       "Educational Background\n",
       "College Degree        238\n",
       "Junior High School    136\n",
       "Senior High School    136\n",
       "Illiteracy            108\n",
       "Primary School         80\n",
       "Name: Result, dtype: int64"
      ]
     },
     "execution_count": 72,
     "metadata": {},
     "output_type": "execute_result"
    }
   ],
   "source": [
    "hiv_stats =df.groupby(\"Educational Background\")[\"Result\"].count().sort_values(ascending=False)\n",
    "hiv_stats"
   ]
  },
  {
   "cell_type": "code",
   "execution_count": 73,
   "id": "e6944046",
   "metadata": {},
   "outputs": [
    {
     "data": {
      "text/plain": [
       "([0, 1, 2, 3, 4],\n",
       " [Text(0, 0, ''),\n",
       "  Text(0, 0, ''),\n",
       "  Text(0, 0, ''),\n",
       "  Text(0, 0, ''),\n",
       "  Text(0, 0, '')])"
      ]
     },
     "execution_count": 73,
     "metadata": {},
     "output_type": "execute_result"
    },
    {
     "data": {
      "image/png": "[encoded data removed]",
      "text/plain": [
       "<Figure size 432x288 with 1 Axes>"
      ]
     },
     "metadata": {
      "needs_background": "light"
     },
     "output_type": "display_data"
    }
   ],
   "source": [
    "\n",
    "x= hiv_stats.index\n",
    "y= hiv_stats.values\n",
    "plt.bar(x,y)\n",
    "plt.xticks(rotation=90)\n"
   ]
  },
  {
   "cell_type": "code",
   "execution_count": 74,
   "id": "0ddf85b7",
   "metadata": {},
   "outputs": [
    {
     "data": {
      "text/plain": [
       "([0, 1, 2, 3, 4],\n",
       " [Text(0, 0, 'College Degree'),\n",
       "  Text(1, 0, 'Senior High School'),\n",
       "  Text(2, 0, 'Junior High School'),\n",
       "  Text(3, 0, 'Illiteracy'),\n",
       "  Text(4, 0, 'Primary School')])"
      ]
     },
     "execution_count": 74,
     "metadata": {},
     "output_type": "execute_result"
    },
    {
     "data": {
      "text/plain": [
       "<Figure size 720x576 with 0 Axes>"
      ]
     },
     "metadata": {},
     "output_type": "display_data"
    },
    {
     "data": {
      "image/png": "[encoded data removed]",
      "text/plain": [
       "<Figure size 440.875x360 with 1 Axes>"
      ]
     },
     "metadata": {
      "needs_background": "light"
     },
     "output_type": "display_data"
    }
   ],
   "source": [
    "plt.figure(figsize=(10,8))\n",
    "sns.displot(data=df, x=\"Educational Background\", hue=\"Result\")\n",
    "plt.title(\"correlation between educational background and HIV status\")\n",
    "plt.xticks(rotation=90)"
   ]
  },
  {
   "cell_type": "markdown",
   "id": "25822e75",
   "metadata": {},
   "source": [
    "## 9(a) What is the correlation between educational background and HIV status?"
   ]
  },
  {
   "cell_type": "code",
   "execution_count": 75,
   "id": "e2f42056",
   "metadata": {},
   "outputs": [
    {
     "data": {
      "text/plain": [
       "Educational Background\n",
       "College Degree        238\n",
       "Junior High School    136\n",
       "Senior High School    136\n",
       "Illiteracy            108\n",
       "Primary School         80\n",
       "Name: Result, dtype: int64"
      ]
     },
     "execution_count": 75,
     "metadata": {},
     "output_type": "execute_result"
    }
   ],
   "source": [
    "edu_background= df.groupby(\"Educational Background\")[\"Result\"].count().sort_values(ascending=False)\n",
    "edu_background"
   ]
  },
  {
   "cell_type": "code",
   "execution_count": 76,
   "id": "9b134aaf",
   "metadata": {},
   "outputs": [
    {
     "data": {
      "text/plain": [
       "([<matplotlib.patches.Wedge at 0x1cfbb87e5b0>,\n",
       "  <matplotlib.patches.Wedge at 0x1cfbb87ea90>,\n",
       "  <matplotlib.patches.Wedge at 0x1cfbb87ef10>,\n",
       "  <matplotlib.patches.Wedge at 0x1cfbb88e340>,\n",
       "  <matplotlib.patches.Wedge at 0x1cfbb88e7c0>],\n",
       " [Text(0.6706971859176397, 1.2288878243363628, 'College Degree'),\n",
       "  Text(-1.018619697270729, 0.41522754283897, 'Junior High School'),\n",
       "  Text(-0.7365340566379703, -0.8170174927211872, 'Senior High School'),\n",
       "  Text(0.39220114356339036, -1.0277053386003057, 'Illiteracy'),\n",
       "  Text(1.0294601975772277, -0.3875715438525583, 'Primary School')])"
      ]
     },
     "execution_count": 76,
     "metadata": {},
     "output_type": "execute_result"
    },
    {
     "data": {
      "image/png": "[encoded data removed]",
      "text/plain": [
       "<Figure size 720x576 with 1 Axes>"
      ]
     },
     "metadata": {},
     "output_type": "display_data"
    }
   ],
   "source": [
    "plt.figure(figsize=(10,8))\n",
    "labels= edu_background.index\n",
    "x= edu_background.values\n",
    "plt.pie(x, labels=labels, explode=[0.3,0,0,0,0])"
   ]
  },
  {
   "cell_type": "code",
   "execution_count": null,
   "id": "556ed117",
   "metadata": {},
   "outputs": [],
   "source": []
  },
  {
   "cell_type": "markdown",
   "id": "02d46ecb",
   "metadata": {},
   "source": [
    "## 9(b) How does marital status affect the outcome of HIV test results?"
   ]
  },
  {
   "cell_type": "code",
   "execution_count": 77,
   "id": "5121b16d",
   "metadata": {},
   "outputs": [
    {
     "data": {
      "text/plain": [
       "Marital Status\n",
       "Unmarried     276\n",
       "Married       202\n",
       "Divorced      102\n",
       "Widowed        82\n",
       "Cohabiting     36\n",
       "Name: Result, dtype: int64"
      ]
     },
     "execution_count": 77,
     "metadata": {},
     "output_type": "execute_result"
    }
   ],
   "source": [
    "df.groupby(\"Marital Status\")[\"Result\"].count().sort_values(ascending=False)"
   ]
  },
  {
   "cell_type": "code",
   "execution_count": 78,
   "id": "56ea4907",
   "metadata": {},
   "outputs": [
    {
     "data": {
      "text/plain": [
       "<seaborn.axisgrid.FacetGrid at 0x1cfbb3ba760>"
      ]
     },
     "execution_count": 78,
     "metadata": {},
     "output_type": "execute_result"
    },
    {
     "data": {
      "image/png": "[encoded data removed]",
      "text/plain": [
       "<Figure size 440.875x360 with 1 Axes>"
      ]
     },
     "metadata": {
      "needs_background": "light"
     },
     "output_type": "display_data"
    }
   ],
   "source": [
    "sns.displot(data=df, x=\"Marital Status\", hue=\"Result\")"
   ]
  },
  {
   "cell_type": "markdown",
   "id": "a5a0b0ea",
   "metadata": {},
   "source": [
    "# HIV Status prediction"
   ]
  },
  {
   "cell_type": "code",
   "execution_count": 79,
   "id": "9148a40e",
   "metadata": {},
   "outputs": [],
   "source": [
    "#one-hot using get_dummies\n",
    "data = pd.get_dummies(df)"
   ]
  },
  {
   "cell_type": "code",
   "execution_count": 80,
   "id": "baef5a99",
   "metadata": {},
   "outputs": [
    {
     "data": {
      "text/html": [
       "<div>\n",
       "<style scoped>\n",
       "    .dataframe tbody tr th:only-of-type {\n",
       "        vertical-align: middle;\n",
       "    }\n",
       "\n",
       "    .dataframe tbody tr th {\n",
       "        vertical-align: top;\n",
       "    }\n",
       "\n",
       "    .dataframe thead th {\n",
       "        text-align: right;\n",
       "    }\n",
       "</style>\n",
       "<table border=\"1\" class=\"dataframe\">\n",
       "  <thead>\n",
       "    <tr style=\"text-align: right;\">\n",
       "      <th></th>\n",
       "      <th>Age</th>\n",
       "      <th>Marital Status_Cohabiting</th>\n",
       "      <th>Marital Status_Divorced</th>\n",
       "      <th>Marital Status_Married</th>\n",
       "      <th>Marital Status_Unmarried</th>\n",
       "      <th>Marital Status_Widowed</th>\n",
       "      <th>STD_No</th>\n",
       "      <th>STD_Yes</th>\n",
       "      <th>Educational Background_College Degree</th>\n",
       "      <th>Educational Background_Illiteracy</th>\n",
       "      <th>...</th>\n",
       "      <th>Places of seeking sex partners_Others</th>\n",
       "      <th>Places of seeking sex partners_Park</th>\n",
       "      <th>Places of seeking sex partners_Public bath</th>\n",
       "      <th>SEXUAL ORIENTATION_Bisexual</th>\n",
       "      <th>SEXUAL ORIENTATION_Heterosexual</th>\n",
       "      <th>SEXUAL ORIENTATION_Homosexual</th>\n",
       "      <th>Drug- taking_No</th>\n",
       "      <th>Drug- taking_Yes</th>\n",
       "      <th>Result_Negative</th>\n",
       "      <th>Result_Positive</th>\n",
       "    </tr>\n",
       "  </thead>\n",
       "  <tbody>\n",
       "    <tr>\n",
       "      <th>0</th>\n",
       "      <td>22</td>\n",
       "      <td>0</td>\n",
       "      <td>0</td>\n",
       "      <td>0</td>\n",
       "      <td>1</td>\n",
       "      <td>0</td>\n",
       "      <td>1</td>\n",
       "      <td>0</td>\n",
       "      <td>1</td>\n",
       "      <td>0</td>\n",
       "      <td>...</td>\n",
       "      <td>0</td>\n",
       "      <td>0</td>\n",
       "      <td>0</td>\n",
       "      <td>0</td>\n",
       "      <td>1</td>\n",
       "      <td>0</td>\n",
       "      <td>0</td>\n",
       "      <td>1</td>\n",
       "      <td>0</td>\n",
       "      <td>1</td>\n",
       "    </tr>\n",
       "    <tr>\n",
       "      <th>1</th>\n",
       "      <td>20</td>\n",
       "      <td>0</td>\n",
       "      <td>0</td>\n",
       "      <td>0</td>\n",
       "      <td>1</td>\n",
       "      <td>0</td>\n",
       "      <td>1</td>\n",
       "      <td>0</td>\n",
       "      <td>1</td>\n",
       "      <td>0</td>\n",
       "      <td>...</td>\n",
       "      <td>0</td>\n",
       "      <td>0</td>\n",
       "      <td>0</td>\n",
       "      <td>0</td>\n",
       "      <td>1</td>\n",
       "      <td>0</td>\n",
       "      <td>1</td>\n",
       "      <td>0</td>\n",
       "      <td>1</td>\n",
       "      <td>0</td>\n",
       "    </tr>\n",
       "    <tr>\n",
       "      <th>2</th>\n",
       "      <td>23</td>\n",
       "      <td>0</td>\n",
       "      <td>0</td>\n",
       "      <td>1</td>\n",
       "      <td>0</td>\n",
       "      <td>0</td>\n",
       "      <td>0</td>\n",
       "      <td>1</td>\n",
       "      <td>1</td>\n",
       "      <td>0</td>\n",
       "      <td>...</td>\n",
       "      <td>0</td>\n",
       "      <td>0</td>\n",
       "      <td>0</td>\n",
       "      <td>1</td>\n",
       "      <td>0</td>\n",
       "      <td>0</td>\n",
       "      <td>1</td>\n",
       "      <td>0</td>\n",
       "      <td>1</td>\n",
       "      <td>0</td>\n",
       "    </tr>\n",
       "    <tr>\n",
       "      <th>3</th>\n",
       "      <td>24</td>\n",
       "      <td>0</td>\n",
       "      <td>0</td>\n",
       "      <td>1</td>\n",
       "      <td>0</td>\n",
       "      <td>0</td>\n",
       "      <td>1</td>\n",
       "      <td>0</td>\n",
       "      <td>1</td>\n",
       "      <td>0</td>\n",
       "      <td>...</td>\n",
       "      <td>0</td>\n",
       "      <td>1</td>\n",
       "      <td>0</td>\n",
       "      <td>0</td>\n",
       "      <td>1</td>\n",
       "      <td>0</td>\n",
       "      <td>0</td>\n",
       "      <td>1</td>\n",
       "      <td>0</td>\n",
       "      <td>1</td>\n",
       "    </tr>\n",
       "    <tr>\n",
       "      <th>4</th>\n",
       "      <td>18</td>\n",
       "      <td>0</td>\n",
       "      <td>0</td>\n",
       "      <td>0</td>\n",
       "      <td>1</td>\n",
       "      <td>0</td>\n",
       "      <td>0</td>\n",
       "      <td>1</td>\n",
       "      <td>0</td>\n",
       "      <td>0</td>\n",
       "      <td>...</td>\n",
       "      <td>0</td>\n",
       "      <td>0</td>\n",
       "      <td>0</td>\n",
       "      <td>0</td>\n",
       "      <td>1</td>\n",
       "      <td>0</td>\n",
       "      <td>0</td>\n",
       "      <td>1</td>\n",
       "      <td>0</td>\n",
       "      <td>1</td>\n",
       "    </tr>\n",
       "    <tr>\n",
       "      <th>...</th>\n",
       "      <td>...</td>\n",
       "      <td>...</td>\n",
       "      <td>...</td>\n",
       "      <td>...</td>\n",
       "      <td>...</td>\n",
       "      <td>...</td>\n",
       "      <td>...</td>\n",
       "      <td>...</td>\n",
       "      <td>...</td>\n",
       "      <td>...</td>\n",
       "      <td>...</td>\n",
       "      <td>...</td>\n",
       "      <td>...</td>\n",
       "      <td>...</td>\n",
       "      <td>...</td>\n",
       "      <td>...</td>\n",
       "      <td>...</td>\n",
       "      <td>...</td>\n",
       "      <td>...</td>\n",
       "      <td>...</td>\n",
       "      <td>...</td>\n",
       "    </tr>\n",
       "    <tr>\n",
       "      <th>693</th>\n",
       "      <td>19</td>\n",
       "      <td>0</td>\n",
       "      <td>0</td>\n",
       "      <td>0</td>\n",
       "      <td>1</td>\n",
       "      <td>0</td>\n",
       "      <td>0</td>\n",
       "      <td>1</td>\n",
       "      <td>0</td>\n",
       "      <td>1</td>\n",
       "      <td>...</td>\n",
       "      <td>0</td>\n",
       "      <td>0</td>\n",
       "      <td>0</td>\n",
       "      <td>0</td>\n",
       "      <td>1</td>\n",
       "      <td>0</td>\n",
       "      <td>1</td>\n",
       "      <td>0</td>\n",
       "      <td>0</td>\n",
       "      <td>1</td>\n",
       "    </tr>\n",
       "    <tr>\n",
       "      <th>694</th>\n",
       "      <td>47</td>\n",
       "      <td>0</td>\n",
       "      <td>0</td>\n",
       "      <td>1</td>\n",
       "      <td>0</td>\n",
       "      <td>0</td>\n",
       "      <td>1</td>\n",
       "      <td>0</td>\n",
       "      <td>1</td>\n",
       "      <td>0</td>\n",
       "      <td>...</td>\n",
       "      <td>0</td>\n",
       "      <td>0</td>\n",
       "      <td>0</td>\n",
       "      <td>1</td>\n",
       "      <td>0</td>\n",
       "      <td>0</td>\n",
       "      <td>1</td>\n",
       "      <td>0</td>\n",
       "      <td>1</td>\n",
       "      <td>0</td>\n",
       "    </tr>\n",
       "    <tr>\n",
       "      <th>695</th>\n",
       "      <td>34</td>\n",
       "      <td>0</td>\n",
       "      <td>0</td>\n",
       "      <td>0</td>\n",
       "      <td>1</td>\n",
       "      <td>0</td>\n",
       "      <td>0</td>\n",
       "      <td>1</td>\n",
       "      <td>0</td>\n",
       "      <td>0</td>\n",
       "      <td>...</td>\n",
       "      <td>0</td>\n",
       "      <td>1</td>\n",
       "      <td>0</td>\n",
       "      <td>0</td>\n",
       "      <td>0</td>\n",
       "      <td>1</td>\n",
       "      <td>0</td>\n",
       "      <td>1</td>\n",
       "      <td>1</td>\n",
       "      <td>0</td>\n",
       "    </tr>\n",
       "    <tr>\n",
       "      <th>696</th>\n",
       "      <td>25</td>\n",
       "      <td>0</td>\n",
       "      <td>0</td>\n",
       "      <td>1</td>\n",
       "      <td>0</td>\n",
       "      <td>0</td>\n",
       "      <td>1</td>\n",
       "      <td>0</td>\n",
       "      <td>0</td>\n",
       "      <td>0</td>\n",
       "      <td>...</td>\n",
       "      <td>0</td>\n",
       "      <td>0</td>\n",
       "      <td>1</td>\n",
       "      <td>0</td>\n",
       "      <td>1</td>\n",
       "      <td>0</td>\n",
       "      <td>0</td>\n",
       "      <td>1</td>\n",
       "      <td>0</td>\n",
       "      <td>1</td>\n",
       "    </tr>\n",
       "    <tr>\n",
       "      <th>697</th>\n",
       "      <td>46</td>\n",
       "      <td>1</td>\n",
       "      <td>0</td>\n",
       "      <td>0</td>\n",
       "      <td>0</td>\n",
       "      <td>0</td>\n",
       "      <td>0</td>\n",
       "      <td>1</td>\n",
       "      <td>0</td>\n",
       "      <td>0</td>\n",
       "      <td>...</td>\n",
       "      <td>0</td>\n",
       "      <td>0</td>\n",
       "      <td>0</td>\n",
       "      <td>0</td>\n",
       "      <td>0</td>\n",
       "      <td>1</td>\n",
       "      <td>1</td>\n",
       "      <td>0</td>\n",
       "      <td>0</td>\n",
       "      <td>1</td>\n",
       "    </tr>\n",
       "  </tbody>\n",
       "</table>\n",
       "<p>698 rows × 30 columns</p>\n",
       "</div>"
      ],
      "text/plain": [
       "     Age  Marital Status_Cohabiting  Marital Status_Divorced  \\\n",
       "0     22                          0                        0   \n",
       "1     20                          0                        0   \n",
       "2     23                          0                        0   \n",
       "3     24                          0                        0   \n",
       "4     18                          0                        0   \n",
       "..   ...                        ...                      ...   \n",
       "693   19                          0                        0   \n",
       "694   47                          0                        0   \n",
       "695   34                          0                        0   \n",
       "696   25                          0                        0   \n",
       "697   46                          1                        0   \n",
       "\n",
       "     Marital Status_Married  Marital Status_Unmarried  Marital Status_Widowed  \\\n",
       "0                         0                         1                       0   \n",
       "1                         0                         1                       0   \n",
       "2                         1                         0                       0   \n",
       "3                         1                         0                       0   \n",
       "4                         0                         1                       0   \n",
       "..                      ...                       ...                     ...   \n",
       "693                       0                         1                       0   \n",
       "694                       1                         0                       0   \n",
       "695                       0                         1                       0   \n",
       "696                       1                         0                       0   \n",
       "697                       0                         0                       0   \n",
       "\n",
       "     STD_No  STD_Yes  Educational Background_College Degree  \\\n",
       "0         1        0                                      1   \n",
       "1         1        0                                      1   \n",
       "2         0        1                                      1   \n",
       "3         1        0                                      1   \n",
       "4         0        1                                      0   \n",
       "..      ...      ...                                    ...   \n",
       "693       0        1                                      0   \n",
       "694       1        0                                      1   \n",
       "695       0        1                                      0   \n",
       "696       1        0                                      0   \n",
       "697       0        1                                      0   \n",
       "\n",
       "     Educational Background_Illiteracy  ...  \\\n",
       "0                                    0  ...   \n",
       "1                                    0  ...   \n",
       "2                                    0  ...   \n",
       "3                                    0  ...   \n",
       "4                                    0  ...   \n",
       "..                                 ...  ...   \n",
       "693                                  1  ...   \n",
       "694                                  0  ...   \n",
       "695                                  0  ...   \n",
       "696                                  0  ...   \n",
       "697                                  0  ...   \n",
       "\n",
       "     Places of seeking sex partners_Others  \\\n",
       "0                                        0   \n",
       "1                                        0   \n",
       "2                                        0   \n",
       "3                                        0   \n",
       "4                                        0   \n",
       "..                                     ...   \n",
       "693                                      0   \n",
       "694                                      0   \n",
       "695                                      0   \n",
       "696                                      0   \n",
       "697                                      0   \n",
       "\n",
       "     Places of seeking sex partners_Park  \\\n",
       "0                                      0   \n",
       "1                                      0   \n",
       "2                                      0   \n",
       "3                                      1   \n",
       "4                                      0   \n",
       "..                                   ...   \n",
       "693                                    0   \n",
       "694                                    0   \n",
       "695                                    1   \n",
       "696                                    0   \n",
       "697                                    0   \n",
       "\n",
       "     Places of seeking sex partners_Public bath  SEXUAL ORIENTATION_Bisexual  \\\n",
       "0                                             0                            0   \n",
       "1                                             0                            0   \n",
       "2                                             0                            1   \n",
       "3                                             0                            0   \n",
       "4                                             0                            0   \n",
       "..                                          ...                          ...   \n",
       "693                                           0                            0   \n",
       "694                                           0                            1   \n",
       "695                                           0                            0   \n",
       "696                                           1                            0   \n",
       "697                                           0                            0   \n",
       "\n",
       "     SEXUAL ORIENTATION_Heterosexual  SEXUAL ORIENTATION_Homosexual  \\\n",
       "0                                  1                              0   \n",
       "1                                  1                              0   \n",
       "2                                  0                              0   \n",
       "3                                  1                              0   \n",
       "4                                  1                              0   \n",
       "..                               ...                            ...   \n",
       "693                                1                              0   \n",
       "694                                0                              0   \n",
       "695                                0                              1   \n",
       "696                                1                              0   \n",
       "697                                0                              1   \n",
       "\n",
       "     Drug- taking_No  Drug- taking_Yes  Result_Negative  Result_Positive  \n",
       "0                  0                 1                0                1  \n",
       "1                  1                 0                1                0  \n",
       "2                  1                 0                1                0  \n",
       "3                  0                 1                0                1  \n",
       "4                  0                 1                0                1  \n",
       "..               ...               ...              ...              ...  \n",
       "693                1                 0                0                1  \n",
       "694                1                 0                1                0  \n",
       "695                0                 1                1                0  \n",
       "696                0                 1                0                1  \n",
       "697                1                 0                0                1  \n",
       "\n",
       "[698 rows x 30 columns]"
      ]
     },
     "execution_count": 80,
     "metadata": {},
     "output_type": "execute_result"
    }
   ],
   "source": [
    "data"
   ]
  },
  {
   "cell_type": "markdown",
   "id": "2c222727",
   "metadata": {},
   "source": [
    " we will remove columns that will not affect our predictive objective. \n",
    "these columns are mostly  alternative of the ones to be used,  (STD_No,Drug-taking_No, Result_Negative)"
   ]
  },
  {
   "cell_type": "code",
   "execution_count": 81,
   "id": "1c76a4f9",
   "metadata": {},
   "outputs": [],
   "source": [
    "data.drop(columns=[\"STD_No\",\"Drug- taking_No\",\"Result_Negative\"], inplace=True )"
   ]
  },
  {
   "cell_type": "code",
   "execution_count": 82,
   "id": "6f345366",
   "metadata": {},
   "outputs": [
    {
     "data": {
      "text/html": [
       "<div>\n",
       "<style scoped>\n",
       "    .dataframe tbody tr th:only-of-type {\n",
       "        vertical-align: middle;\n",
       "    }\n",
       "\n",
       "    .dataframe tbody tr th {\n",
       "        vertical-align: top;\n",
       "    }\n",
       "\n",
       "    .dataframe thead th {\n",
       "        text-align: right;\n",
       "    }\n",
       "</style>\n",
       "<table border=\"1\" class=\"dataframe\">\n",
       "  <thead>\n",
       "    <tr style=\"text-align: right;\">\n",
       "      <th></th>\n",
       "      <th>Age</th>\n",
       "      <th>Marital Status_Cohabiting</th>\n",
       "      <th>Marital Status_Divorced</th>\n",
       "      <th>Marital Status_Married</th>\n",
       "      <th>Marital Status_Unmarried</th>\n",
       "      <th>Marital Status_Widowed</th>\n",
       "      <th>STD_Yes</th>\n",
       "      <th>Educational Background_College Degree</th>\n",
       "      <th>Educational Background_Illiteracy</th>\n",
       "      <th>Educational Background_Junior High School</th>\n",
       "      <th>...</th>\n",
       "      <th>Places of seeking sex partners_Internet</th>\n",
       "      <th>Places of seeking sex partners_None</th>\n",
       "      <th>Places of seeking sex partners_Others</th>\n",
       "      <th>Places of seeking sex partners_Park</th>\n",
       "      <th>Places of seeking sex partners_Public bath</th>\n",
       "      <th>SEXUAL ORIENTATION_Bisexual</th>\n",
       "      <th>SEXUAL ORIENTATION_Heterosexual</th>\n",
       "      <th>SEXUAL ORIENTATION_Homosexual</th>\n",
       "      <th>Drug- taking_Yes</th>\n",
       "      <th>Result_Positive</th>\n",
       "    </tr>\n",
       "  </thead>\n",
       "  <tbody>\n",
       "    <tr>\n",
       "      <th>0</th>\n",
       "      <td>22</td>\n",
       "      <td>0</td>\n",
       "      <td>0</td>\n",
       "      <td>0</td>\n",
       "      <td>1</td>\n",
       "      <td>0</td>\n",
       "      <td>0</td>\n",
       "      <td>1</td>\n",
       "      <td>0</td>\n",
       "      <td>0</td>\n",
       "      <td>...</td>\n",
       "      <td>0</td>\n",
       "      <td>0</td>\n",
       "      <td>0</td>\n",
       "      <td>0</td>\n",
       "      <td>0</td>\n",
       "      <td>0</td>\n",
       "      <td>1</td>\n",
       "      <td>0</td>\n",
       "      <td>1</td>\n",
       "      <td>1</td>\n",
       "    </tr>\n",
       "    <tr>\n",
       "      <th>1</th>\n",
       "      <td>20</td>\n",
       "      <td>0</td>\n",
       "      <td>0</td>\n",
       "      <td>0</td>\n",
       "      <td>1</td>\n",
       "      <td>0</td>\n",
       "      <td>0</td>\n",
       "      <td>1</td>\n",
       "      <td>0</td>\n",
       "      <td>0</td>\n",
       "      <td>...</td>\n",
       "      <td>0</td>\n",
       "      <td>1</td>\n",
       "      <td>0</td>\n",
       "      <td>0</td>\n",
       "      <td>0</td>\n",
       "      <td>0</td>\n",
       "      <td>1</td>\n",
       "      <td>0</td>\n",
       "      <td>0</td>\n",
       "      <td>0</td>\n",
       "    </tr>\n",
       "    <tr>\n",
       "      <th>2</th>\n",
       "      <td>23</td>\n",
       "      <td>0</td>\n",
       "      <td>0</td>\n",
       "      <td>1</td>\n",
       "      <td>0</td>\n",
       "      <td>0</td>\n",
       "      <td>1</td>\n",
       "      <td>1</td>\n",
       "      <td>0</td>\n",
       "      <td>0</td>\n",
       "      <td>...</td>\n",
       "      <td>0</td>\n",
       "      <td>1</td>\n",
       "      <td>0</td>\n",
       "      <td>0</td>\n",
       "      <td>0</td>\n",
       "      <td>1</td>\n",
       "      <td>0</td>\n",
       "      <td>0</td>\n",
       "      <td>0</td>\n",
       "      <td>0</td>\n",
       "    </tr>\n",
       "    <tr>\n",
       "      <th>3</th>\n",
       "      <td>24</td>\n",
       "      <td>0</td>\n",
       "      <td>0</td>\n",
       "      <td>1</td>\n",
       "      <td>0</td>\n",
       "      <td>0</td>\n",
       "      <td>0</td>\n",
       "      <td>1</td>\n",
       "      <td>0</td>\n",
       "      <td>0</td>\n",
       "      <td>...</td>\n",
       "      <td>0</td>\n",
       "      <td>0</td>\n",
       "      <td>0</td>\n",
       "      <td>1</td>\n",
       "      <td>0</td>\n",
       "      <td>0</td>\n",
       "      <td>1</td>\n",
       "      <td>0</td>\n",
       "      <td>1</td>\n",
       "      <td>1</td>\n",
       "    </tr>\n",
       "    <tr>\n",
       "      <th>4</th>\n",
       "      <td>18</td>\n",
       "      <td>0</td>\n",
       "      <td>0</td>\n",
       "      <td>0</td>\n",
       "      <td>1</td>\n",
       "      <td>0</td>\n",
       "      <td>1</td>\n",
       "      <td>0</td>\n",
       "      <td>0</td>\n",
       "      <td>0</td>\n",
       "      <td>...</td>\n",
       "      <td>1</td>\n",
       "      <td>0</td>\n",
       "      <td>0</td>\n",
       "      <td>0</td>\n",
       "      <td>0</td>\n",
       "      <td>0</td>\n",
       "      <td>1</td>\n",
       "      <td>0</td>\n",
       "      <td>1</td>\n",
       "      <td>1</td>\n",
       "    </tr>\n",
       "  </tbody>\n",
       "</table>\n",
       "<p>5 rows × 27 columns</p>\n",
       "</div>"
      ],
      "text/plain": [
       "   Age  Marital Status_Cohabiting  Marital Status_Divorced  \\\n",
       "0   22                          0                        0   \n",
       "1   20                          0                        0   \n",
       "2   23                          0                        0   \n",
       "3   24                          0                        0   \n",
       "4   18                          0                        0   \n",
       "\n",
       "   Marital Status_Married  Marital Status_Unmarried  Marital Status_Widowed  \\\n",
       "0                       0                         1                       0   \n",
       "1                       0                         1                       0   \n",
       "2                       1                         0                       0   \n",
       "3                       1                         0                       0   \n",
       "4                       0                         1                       0   \n",
       "\n",
       "   STD_Yes  Educational Background_College Degree  \\\n",
       "0        0                                      1   \n",
       "1        0                                      1   \n",
       "2        1                                      1   \n",
       "3        0                                      1   \n",
       "4        1                                      0   \n",
       "\n",
       "   Educational Background_Illiteracy  \\\n",
       "0                                  0   \n",
       "1                                  0   \n",
       "2                                  0   \n",
       "3                                  0   \n",
       "4                                  0   \n",
       "\n",
       "   Educational Background_Junior High School  ...  \\\n",
       "0                                          0  ...   \n",
       "1                                          0  ...   \n",
       "2                                          0  ...   \n",
       "3                                          0  ...   \n",
       "4                                          0  ...   \n",
       "\n",
       "   Places of seeking sex partners_Internet  \\\n",
       "0                                        0   \n",
       "1                                        0   \n",
       "2                                        0   \n",
       "3                                        0   \n",
       "4                                        1   \n",
       "\n",
       "   Places of seeking sex partners_None  Places of seeking sex partners_Others  \\\n",
       "0                                    0                                      0   \n",
       "1                                    1                                      0   \n",
       "2                                    1                                      0   \n",
       "3                                    0                                      0   \n",
       "4                                    0                                      0   \n",
       "\n",
       "   Places of seeking sex partners_Park  \\\n",
       "0                                    0   \n",
       "1                                    0   \n",
       "2                                    0   \n",
       "3                                    1   \n",
       "4                                    0   \n",
       "\n",
       "   Places of seeking sex partners_Public bath  SEXUAL ORIENTATION_Bisexual  \\\n",
       "0                                           0                            0   \n",
       "1                                           0                            0   \n",
       "2                                           0                            1   \n",
       "3                                           0                            0   \n",
       "4                                           0                            0   \n",
       "\n",
       "   SEXUAL ORIENTATION_Heterosexual  SEXUAL ORIENTATION_Homosexual  \\\n",
       "0                                1                              0   \n",
       "1                                1                              0   \n",
       "2                                0                              0   \n",
       "3                                1                              0   \n",
       "4                                1                              0   \n",
       "\n",
       "   Drug- taking_Yes  Result_Positive  \n",
       "0                 1                1  \n",
       "1                 0                0  \n",
       "2                 0                0  \n",
       "3                 1                1  \n",
       "4                 1                1  \n",
       "\n",
       "[5 rows x 27 columns]"
      ]
     },
     "execution_count": 82,
     "metadata": {},
     "output_type": "execute_result"
    }
   ],
   "source": [
    "data.head()"
   ]
  },
  {
   "cell_type": "code",
   "execution_count": 83,
   "id": "ebaf4cec",
   "metadata": {},
   "outputs": [
    {
     "data": {
      "text/plain": [
       "0      1\n",
       "1      0\n",
       "2      0\n",
       "3      1\n",
       "4      1\n",
       "      ..\n",
       "693    1\n",
       "694    0\n",
       "695    0\n",
       "696    1\n",
       "697    1\n",
       "Name: Result_Positive, Length: 698, dtype: uint8"
      ]
     },
     "execution_count": 83,
     "metadata": {},
     "output_type": "execute_result"
    }
   ],
   "source": [
    "#seperate the target from other features\n",
    "target= data.pop(\"Result_Positive\")\n",
    "\n",
    "target\n"
   ]
  },
  {
   "cell_type": "code",
   "execution_count": 84,
   "id": "6b2a09d0",
   "metadata": {},
   "outputs": [
    {
     "data": {
      "text/plain": [
       "array([[22,  0,  0, ...,  1,  0,  1],\n",
       "       [20,  0,  0, ...,  1,  0,  0],\n",
       "       [23,  0,  0, ...,  0,  0,  0],\n",
       "       ...,\n",
       "       [34,  0,  0, ...,  0,  1,  1],\n",
       "       [25,  0,  0, ...,  1,  0,  1],\n",
       "       [46,  1,  0, ...,  0,  1,  0]], dtype=int64)"
      ]
     },
     "execution_count": 84,
     "metadata": {},
     "output_type": "execute_result"
    }
   ],
   "source": [
    "features = data.values\n",
    "\n",
    "features"
   ]
  },
  {
   "cell_type": "code",
   "execution_count": 85,
   "id": "244e3d53",
   "metadata": {},
   "outputs": [],
   "source": [
    "#split data into test and train\n",
    "from sklearn.model_selection import train_test_split\n",
    "\n",
    "x_train, x_test, y_train, y_test= train_test_split(features, target, test_size=0.2, random_state= 4)\n",
    "#est size 25%(0.2) and trainsize 80%(0.8)"
   ]
  },
  {
   "cell_type": "code",
   "execution_count": 86,
   "id": "8b4c1033",
   "metadata": {},
   "outputs": [
    {
     "data": {
      "text/plain": [
       "427    0\n",
       "178    0\n",
       "471    1\n",
       "660    1\n",
       "194    0\n",
       "      ..\n",
       "599    0\n",
       "360    0\n",
       "439    1\n",
       "174    1\n",
       "122    1\n",
       "Name: Result_Positive, Length: 558, dtype: uint8"
      ]
     },
     "execution_count": 86,
     "metadata": {},
     "output_type": "execute_result"
    }
   ],
   "source": [
    "y_train"
   ]
  },
  {
   "cell_type": "code",
   "execution_count": 87,
   "id": "4f2f5219",
   "metadata": {},
   "outputs": [],
   "source": [
    "#import the logistic regression model\n",
    "from sklearn.linear_model import LogisticRegression"
   ]
  },
  {
   "cell_type": "code",
   "execution_count": 88,
   "id": "a6894c9b",
   "metadata": {},
   "outputs": [],
   "source": [
    "logistic_regression= LogisticRegression()"
   ]
  },
  {
   "cell_type": "code",
   "execution_count": 89,
   "id": "37bf4375",
   "metadata": {},
   "outputs": [
    {
     "name": "stderr",
     "output_type": "stream",
     "text": [
      "C:\\Users\\ASUS\\anaconda3\\lib\\site-packages\\sklearn\\linear_model\\_logistic.py:763: ConvergenceWarning: lbfgs failed to converge (status=1):\n",
      "STOP: TOTAL NO. of ITERATIONS REACHED LIMIT.\n",
      "\n",
      "Increase the number of iterations (max_iter) or scale the data as shown in:\n",
      "    https://scikit-learn.org/stable/modules/preprocessing.html\n",
      "Please also refer to the documentation for alternative solver options:\n",
      "    https://scikit-learn.org/stable/modules/linear_model.html#logistic-regression\n",
      "  n_iter_i = _check_optimize_result(\n"
     ]
    }
   ],
   "source": [
    "model= logistic_regression.fit(x_train, y_train)"
   ]
  },
  {
   "cell_type": "code",
   "execution_count": 90,
   "id": "9381a94c",
   "metadata": {},
   "outputs": [
    {
     "data": {
      "text/plain": [
       "array([0, 0, 0, 1, 0, 0, 0, 0, 1, 1, 0, 0, 0, 0, 0, 0, 0, 1, 1, 1, 1, 0,\n",
       "       1, 1, 0, 1, 0, 0, 0, 0, 1, 0, 1, 1, 0, 0, 0, 0, 0, 0, 1, 0, 0, 1,\n",
       "       0, 1, 1, 1, 0, 1, 0, 1, 1, 1, 0, 1, 1, 0, 0, 1, 0, 0, 1, 1, 0, 0,\n",
       "       1, 1, 1, 0, 0, 1, 0, 0, 0, 0, 0, 1, 0, 1, 0, 1, 1, 0, 0, 0, 1, 1,\n",
       "       0, 0, 1, 1, 1, 1, 1, 0, 1, 0, 0, 1, 0, 1, 0, 0, 0, 1, 1, 1, 1, 1,\n",
       "       1, 1, 0, 0, 1, 0, 1, 0, 0, 1, 0, 0, 0, 1, 0, 0, 0, 1, 0, 1, 0, 0,\n",
       "       0, 0, 0, 0, 0, 0, 1, 1], dtype=uint8)"
      ]
     },
     "execution_count": 90,
     "metadata": {},
     "output_type": "execute_result"
    }
   ],
   "source": [
    "y_predict= model.predict(x_test)\n",
    "\n",
    "y_predict"
   ]
  },
  {
   "cell_type": "markdown",
   "id": "61d085fe",
   "metadata": {},
   "source": [
    "# Model Evaluation"
   ]
  },
  {
   "cell_type": "code",
   "execution_count": 91,
   "id": "b2050eb2",
   "metadata": {},
   "outputs": [],
   "source": [
    "#Model Evaluation  using confusion matrix\n",
    "from sklearn.metrics import confusion_matrix, jaccard_score, accuracy_score"
   ]
  },
  {
   "cell_type": "code",
   "execution_count": 92,
   "id": "69ea1347",
   "metadata": {},
   "outputs": [
    {
     "data": {
      "text/plain": [
       "array([[64,  8],\n",
       "       [16, 52]], dtype=int64)"
      ]
     },
     "execution_count": 92,
     "metadata": {},
     "output_type": "execute_result"
    }
   ],
   "source": [
    "confusion_matrix= confusion_matrix(y_test, y_predict)\n",
    "\n",
    "confusion_matrix"
   ]
  },
  {
   "cell_type": "code",
   "execution_count": 93,
   "id": "63c4f753",
   "metadata": {},
   "outputs": [
    {
     "data": {
      "text/plain": [
       "0.8285714285714286"
      ]
     },
     "execution_count": 93,
     "metadata": {},
     "output_type": "execute_result"
    }
   ],
   "source": [
    "#check for accuracy score\n",
    "accuracy_score(y_test,y_predict)"
   ]
  },
  {
   "cell_type": "code",
   "execution_count": 94,
   "id": "69434a9e",
   "metadata": {},
   "outputs": [
    {
     "data": {
      "text/plain": [
       "0.6842105263157895"
      ]
     },
     "execution_count": 94,
     "metadata": {},
     "output_type": "execute_result"
    }
   ],
   "source": [
    "#check jaccard score\n",
    "jaccard_score(y_test,y_predict)"
   ]
  },
  {
   "cell_type": "code",
   "execution_count": 95,
   "id": "67897a04",
   "metadata": {},
   "outputs": [],
   "source": [
    "#visualize the confusion matrix\n",
    "import matplotlib.pyplot as plt, seaborn as sns"
   ]
  },
  {
   "cell_type": "code",
   "execution_count": 96,
   "id": "7914bdec",
   "metadata": {},
   "outputs": [
    {
     "data": {
      "text/plain": [
       "Text(33.0, 0.5, 'true labels')"
      ]
     },
     "execution_count": 96,
     "metadata": {},
     "output_type": "execute_result"
    },
    {
     "data": {
      "image/png": "[encoded data removed]",
      "text/plain": [
       "<Figure size 432x288 with 2 Axes>"
      ]
     },
     "metadata": {
      "needs_background": "light"
     },
     "output_type": "display_data"
    }
   ],
   "source": [
    "sns.heatmap(confusion_matrix, annot=True, cmap=\"Oranges\")\n",
    "plt.xlabel(\"predicted labels\" )\n",
    "plt.ylabel(\"true labels\")"
   ]
  },
  {
   "cell_type": "code",
   "execution_count": null,
   "id": "0d85fb5b",
   "metadata": {},
   "outputs": [],
   "source": []
  }
 ],
 "metadata": {
  "kernelspec": {
   "display_name": "Python 3",
   "language": "python",
   "name": "python3"
  },
  "language_info": {
   "codemirror_mode": {
    "name": "ipython",
    "version": 3
   },
   "file_extension": ".py",
   "mimetype": "text/x-python",
   "name": "python",
   "nbconvert_exporter": "python",
   "pygments_lexer": "ipython3",
   "version": "3.8.8"
  }
 },
 "nbformat": 4,
 "nbformat_minor": 5
}
